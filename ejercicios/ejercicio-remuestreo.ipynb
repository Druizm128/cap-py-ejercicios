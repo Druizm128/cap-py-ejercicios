{
 "cells": [
  {
   "cell_type": "markdown",
   "metadata": {},
   "source": [
    "## Remuestreo y estimación por intervalo"
   ]
  },
  {
   "cell_type": "markdown",
   "metadata": {},
   "source": [
    "El **remuestreo** o **bootstrap** es una técnica computacional que se utiliza para estimar la precisión de estimadores.\n",
    "\n",
    "### Muestrear una población\n",
    "\n",
    "Consideremos una población para la cual queremos estimar su media, por ejemplo:"
   ]
  },
  {
   "cell_type": "code",
   "execution_count": 124,
   "metadata": {},
   "outputs": [],
   "source": [
    "import numpy as np\n",
    "import pandas as pd\n",
    "from plotnine import *\n",
    "\n",
    "np.random.seed(seed=6212)\n",
    "## Usamos una población simulada\n",
    "poblacion =  np.random.gamma(10.0, 5.0, 100000)"
   ]
  },
  {
   "cell_type": "markdown",
   "metadata": {},
   "source": [
    "Tomamos una muestra aleatoria simple de esta población:"
   ]
  },
  {
   "cell_type": "code",
   "execution_count": 125,
   "metadata": {},
   "outputs": [
    {
     "data": {
      "text/plain": [
       "array([ 55.84,  68.46,  52.53,  44.19,  29.17,  52.47,  47.56,  47.16,\n",
       "        37.96,  65.31,  52.22,  39.6 ,  59.89,  60.52,  31.21,  32.25,\n",
       "        49.08,  34.94,  68.63,  40.  ,  32.24,  36.49,  54.04,  75.09,\n",
       "        82.03,  41.99,  40.14,  53.84,  24.3 ,  81.31,  38.66,  47.58,\n",
       "        24.62,  61.37,  37.63,  66.64,  48.05,  51.36,  76.22,  74.49,\n",
       "        42.35,  25.87,  34.82,  57.04,  22.8 ,  44.83,  47.06,  21.49,\n",
       "        50.13, 105.9 ,  37.03,  63.56,  30.24,  44.2 ,  28.25,  48.47,\n",
       "        34.94,  45.85,  28.5 ,  93.48,  96.56,  52.68,  38.26,  41.79,\n",
       "        28.48,  49.48,  43.3 ,  40.02,  46.07,  37.68,  73.93,  36.74,\n",
       "        41.  ,  47.96,  28.56,  36.75,  43.97,  59.37,  55.78,  21.53,\n",
       "        45.55,  50.35,  61.77,  46.63,  77.71,  35.07,  74.28,  48.95,\n",
       "        40.51,  51.67,  60.93, 104.16,  48.22, 109.  ,  54.65,  68.97,\n",
       "        29.03,  30.85,  41.39,  81.01])"
      ]
     },
     "execution_count": 125,
     "metadata": {},
     "output_type": "execute_result"
    }
   ],
   "source": [
    "muestra = np.random.choice(poblacion, size = 100)\n",
    "muestra.round(2)"
   ]
  },
  {
   "cell_type": "markdown",
   "metadata": {},
   "source": [
    "Y estimamos la mediana de la población usando la mediana muestral, por ejemplo:"
   ]
  },
  {
   "cell_type": "code",
   "execution_count": 126,
   "metadata": {},
   "outputs": [
    {
     "data": {
      "text/plain": [
       "47.11"
      ]
     },
     "execution_count": 126,
     "metadata": {},
     "output_type": "execute_result"
    }
   ],
   "source": [
    "mediana_estimada = np.median(muestra)\n",
    "mediana_estimada.round(2)"
   ]
  },
  {
   "cell_type": "markdown",
   "metadata": {},
   "source": [
    "Nuestra pregunta es: ¿cuál es el error de estimación? ¿Qué tan lejos puede caer el valor estimado del valor real poblaciónal?"
   ]
  },
  {
   "cell_type": "markdown",
   "metadata": {},
   "source": [
    "### Mundo téorico"
   ]
  },
  {
   "cell_type": "markdown",
   "metadata": {},
   "source": [
    "Idealmente, para ver cómo se comporta el estimador de la mediana de una muestra de tamaño 120, tomaríamos muchas muestras y veríamos cómo se comportan. No estamos seguro qué muestra particular vamos a obtener, pero si vemos esta **distribución de muestreo** podríamos evaluar qué tan probable es que caigamos cerca del valor poblacional"
   ]
  },
  {
   "cell_type": "markdown",
   "metadata": {},
   "source": [
    "En este mundo teórico (no podemos tomar muchas muestras de la población), haríamos lo siguiente:"
   ]
  },
  {
   "cell_type": "code",
   "execution_count": 127,
   "metadata": {},
   "outputs": [
    {
     "data": {
      "text/plain": [
       "46.5349208114575"
      ]
     },
     "execution_count": 127,
     "metadata": {},
     "output_type": "execute_result"
    }
   ],
   "source": [
    "def obtener_estimacion(n = 200):\n",
    "    muestra = np.random.choice(poblacion, size = n, replace = True)\n",
    "    return np.median(muestra)\n",
    "# ejemplo\n",
    "obtener_estimacion()"
   ]
  },
  {
   "cell_type": "markdown",
   "metadata": {},
   "source": [
    "Tomamos una gran cantidad de muestras de tamaño 200 de la población, **calculamos su mediana**, y vemos cómo se ve su distribución:"
   ]
  },
  {
   "cell_type": "code",
   "execution_count": 128,
   "metadata": {},
   "outputs": [
    {
     "data": {
      "image/png": "[encoded data removed]",
      "text/plain": [
       "<Figure size 640x480 with 1 Axes>"
      ]
     },
     "metadata": {},
     "output_type": "display_data"
    },
    {
     "data": {
      "text/plain": [
       "<ggplot: (-9223363277507740086)>"
      ]
     },
     "execution_count": 128,
     "metadata": {},
     "output_type": "execute_result"
    }
   ],
   "source": [
    "medianas_muestras = np.array([obtener_estimacion() for i in range(5000)])\n",
    "datos_muestras = pd.DataFrame({'mediana':medianas_muestras})\n",
    "(ggplot(datos_muestras, aes(\"mediana\")) + geom_histogram(bins = 20) +\n",
    "    geom_vline(xintercept = np.median(poblacion), color = \"red\"))"
   ]
  },
  {
   "cell_type": "markdown",
   "metadata": {},
   "source": [
    "Y a partir de la gráfica anterior podemos juzgar qué tan lejos puede caer una **muestra particular** del verdadero\n",
    "valor poblacional, que está marcado en rojo."
   ]
  },
  {
   "cell_type": "markdown",
   "metadata": {},
   "source": [
    "Por ejemplo, podemos calcular la desviación estándar de esta distribución, que en este caso se llama\n",
    "el **error estándar**:"
   ]
  },
  {
   "cell_type": "code",
   "execution_count": 129,
   "metadata": {},
   "outputs": [
    {
     "data": {
      "text/plain": [
       "2.4886053550215133"
      ]
     },
     "execution_count": 129,
     "metadata": {},
     "output_type": "execute_result"
    }
   ],
   "source": [
    "ee = np.std(medianas_muestra)\n",
    "ee"
   ]
  },
  {
   "cell_type": "markdown",
   "metadata": {},
   "source": [
    "Y esto mide qué tan lejos puede caer el estimador de la mediana de la mediana. Con 95\\% de probabilidad no cae a más de 2 errores estándar del valor poblacional (usando la aproximación normal):"
   ]
  },
  {
   "cell_type": "code",
   "execution_count": 130,
   "metadata": {},
   "outputs": [
    {
     "data": {
      "text/plain": [
       "5.0"
      ]
     },
     "execution_count": 130,
     "metadata": {},
     "output_type": "execute_result"
    }
   ],
   "source": [
    "(2*ee).round(1)"
   ]
  },
  {
   "cell_type": "markdown",
   "metadata": {},
   "source": [
    "Pues la distribución de muestreo mostrada arriba es aproximadamente normal"
   ]
  },
  {
   "cell_type": "markdown",
   "metadata": {},
   "source": [
    "### Mundo boostrap"
   ]
  },
  {
   "cell_type": "markdown",
   "metadata": {},
   "source": [
    "En el mundo real, no podemos tomar una muestra. Lo segundo mejor (es una solución simple), es considerar a nuestra muestra como un modelo \n",
    "de nuestra población (no paramétrico).\n",
    "\n",
    "Así que repetimos el proceso de arriba, remuestreando nuestra muestra, para entender cuánto puede variar nuestra estimación:"
   ]
  },
  {
   "cell_type": "code",
   "execution_count": 131,
   "metadata": {},
   "outputs": [
    {
     "name": "stdout",
     "output_type": "stream",
     "text": [
      "10000\n"
     ]
    },
    {
     "data": {
      "image/png": "[encoded data removed]",
      "text/plain": [
       "<Figure size 640x480 with 1 Axes>"
      ]
     },
     "metadata": {},
     "output_type": "display_data"
    },
    {
     "data": {
      "text/plain": [
       "<ggplot: (-9223363277507630844)>"
      ]
     },
     "execution_count": 131,
     "metadata": {},
     "output_type": "execute_result"
    }
   ],
   "source": [
    "def obtener_estimacion_boot(muestra):\n",
    "    muestra_boot = np.random.choice(muestra, size = len(muestra), replace = True)\n",
    "    return np.median(muestra_boot)\n",
    "\n",
    "medianas_boot = np.array([obtener_estimacion_boot(muestra) for i in range(10000)])\n",
    "print(len(medianas_boot))\n",
    "datos_boot = pd.DataFrame({'mediana':medianas_boot})\n",
    "(ggplot(datos_boot, aes(\"mediana\")) + geom_histogram(bins = 20))"
   ]
  },
  {
   "cell_type": "markdown",
   "metadata": {},
   "source": [
    "Ahora podemos estimar el error estándar con las replicaciones bootstrap:"
   ]
  },
  {
   "cell_type": "code",
   "execution_count": 134,
   "metadata": {},
   "outputs": [
    {
     "data": {
      "text/plain": [
       "1.6220568090159462"
      ]
     },
     "execution_count": 134,
     "metadata": {},
     "output_type": "execute_result"
    }
   ],
   "source": [
    "ee_boot = np.std(medianas_boot)\n",
    "ee_boot"
   ]
  },
  {
   "cell_type": "markdown",
   "metadata": {},
   "source": [
    "Y nuestro intervalo del 95% es:"
   ]
  },
  {
   "cell_type": "code",
   "execution_count": 138,
   "metadata": {},
   "outputs": [
    {
     "data": {
      "text/plain": [
       "array([43.87, 50.35])"
      ]
     },
     "execution_count": 138,
     "metadata": {},
     "output_type": "execute_result"
    }
   ],
   "source": [
    "intervalo = np.array([mediana_estimada - 2*ee_boot, mediana_estimada + 2*ee_boot])\n",
    "intervalo.round(2)"
   ]
  },
  {
   "cell_type": "markdown",
   "metadata": {},
   "source": [
    "El verdadero valor poblacional que queríamos estimar es:"
   ]
  },
  {
   "cell_type": "code",
   "execution_count": 140,
   "metadata": {},
   "outputs": [
    {
     "data": {
      "text/plain": [
       "48.376198188014186"
      ]
     },
     "execution_count": 140,
     "metadata": {},
     "output_type": "execute_result"
    }
   ],
   "source": [
    "np.median(poblacion)"
   ]
  },
  {
   "cell_type": "markdown",
   "metadata": {},
   "source": [
    "## Resumen"
   ]
  },
  {
   "cell_type": "markdown",
   "metadata": {},
   "source": [
    "- El bootstrap es una técnica numérica para estimar el error estándar de muchos estimadores\n",
    "- Estos intervalos se llaman **intervalos normales bootstrap**"
   ]
  }
 ],
 "metadata": {
  "kernelspec": {
   "display_name": "Python 3",
   "language": "python",
   "name": "python3"
  },
  "language_info": {
   "codemirror_mode": {
    "name": "ipython",
    "version": 3
   },
   "file_extension": ".py",
   "mimetype": "text/x-python",
   "name": "python",
   "nbconvert_exporter": "python",
   "pygments_lexer": "ipython3",
   "version": "3.7.3"
  }
 },
 "nbformat": 4,
 "nbformat_minor": 2
}
