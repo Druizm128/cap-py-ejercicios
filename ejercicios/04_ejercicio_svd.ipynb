{
 "cells": [
  {
   "cell_type": "markdown",
   "metadata": {},
   "source": [
    "# Ejercicio: SVD para marginación por estado"
   ]
  },
  {
   "cell_type": "markdown",
   "metadata": {},
   "source": [
    "Buscaremos representaciones de dimensión uno para los datos de marginación (2010) a nivel municipio de CONAPO."
   ]
  },
  {
   "cell_type": "code",
   "execution_count": null,
   "metadata": {},
   "outputs": [],
   "source": [
    "%autosave 0\n",
    "import pandas as pd\n",
    "import numpy as np\n",
    "from plotnine import *\n",
    "from numpy.linalg import svd"
   ]
  },
  {
   "cell_type": "markdown",
   "metadata": {},
   "source": [
    "## 1. Tabla por estado"
   ]
  },
  {
   "cell_type": "markdown",
   "metadata": {},
   "source": [
    "Leemos los datos y vemos una descripción"
   ]
  },
  {
   "cell_type": "code",
   "execution_count": null,
   "metadata": {},
   "outputs": [],
   "source": [
    "marginacion = pd.read_csv(\"../datos/imm-2010.csv\")\n",
    "descrip = pd.read_csv(\"../datos/imm-2010-descrip.csv\", skiprows=2)\n",
    "pd.set_option('max_colwidth', 200)\n",
    "descrip"
   ]
  },
  {
   "cell_type": "code",
   "execution_count": null,
   "metadata": {},
   "outputs": [],
   "source": [
    "marginacion"
   ]
  },
  {
   "cell_type": "markdown",
   "metadata": {},
   "source": [
    "Calcularemos la tabla a nivel estado. Los pesos serán"
   ]
  },
  {
   "cell_type": "code",
   "execution_count": null,
   "metadata": {},
   "outputs": [],
   "source": [
    "marg_tabla = marginacion.loc[:,'ANALF':'PO2SM']\n",
    "marg_tabla['estado'] = marginacion['NOM_ENT']\n",
    "wt = marginacion['POB_TOT']\n",
    "wt"
   ]
  },
  {
   "cell_type": "code",
   "execution_count": null,
   "metadata": {},
   "outputs": [],
   "source": [
    "def media_pob(x):\n",
    "    # esta funcion calcula media ponderada por población \n",
    "    return sum(x * wt[x.index]) / sum(wt[x.index])\n",
    "# usar la función agg\n",
    "estado_tbl = marg_tabla.groupby('estado').agg(media_pob)\n",
    "estado_tbl"
   ]
  },
  {
   "cell_type": "markdown",
   "metadata": {},
   "source": [
    "Normalizamos"
   ]
  },
  {
   "cell_type": "code",
   "execution_count": null,
   "metadata": {},
   "outputs": [],
   "source": [
    "estado_tbl_est = # escribe tu codigo de estandarización aquí (media y desviación estándar por ejemplo)"
   ]
  },
  {
   "cell_type": "markdown",
   "metadata": {},
   "source": [
    "Con esta tabla vamos calcular la DVS (Descomposición en valores singulares)"
   ]
  },
  {
   "cell_type": "markdown",
   "metadata": {},
   "source": [
    "## 2. Descomposición en valores singulares"
   ]
  },
  {
   "cell_type": "code",
   "execution_count": null,
   "metadata": {},
   "outputs": [],
   "source": [
    "u, s, vt = #aquí tu codigo\n",
    "v = vt.transpose()"
   ]
  },
  {
   "cell_type": "markdown",
   "metadata": {},
   "source": [
    "Veamos los tamaños de cada componente:"
   ]
  },
  {
   "cell_type": "code",
   "execution_count": null,
   "metadata": {},
   "outputs": [],
   "source": [
    "print(u.shape)\n",
    "print(v.shape)\n",
    "print(s.shape)"
   ]
  },
  {
   "cell_type": "markdown",
   "metadata": {},
   "source": [
    "Veamos cómo se ven las matrices:"
   ]
  },
  {
   "cell_type": "code",
   "execution_count": null,
   "metadata": {},
   "outputs": [],
   "source": [
    "v_df = pd.DataFrame(v)\n",
    "v_df['variable'] = estado_tbl.columns\n",
    "v_df.set_index('variable')\n",
    "v_df"
   ]
  },
  {
   "cell_type": "code",
   "execution_count": null,
   "metadata": {},
   "outputs": [],
   "source": [
    "u_df = pd.DataFrame(u)\n",
    "u_df['estado'] = estado_tbl.index\n",
    "u_df.set_index('estado')\n",
    "u_df.sort_values(0)"
   ]
  },
  {
   "cell_type": "markdown",
   "metadata": {},
   "source": [
    "## 3. Calidad de representación"
   ]
  },
  {
   "cell_type": "markdown",
   "metadata": {},
   "source": [
    "Ahora recordamos que la calidad de la aproximación se puede calcular a partir de los valores singulares"
   ]
  },
  {
   "cell_type": "code",
   "execution_count": null,
   "metadata": {},
   "outputs": [],
   "source": [
    "s"
   ]
  },
  {
   "cell_type": "code",
   "execution_count": null,
   "metadata": {},
   "outputs": [],
   "source": [
    "# calcula la calidad acumulada, y la contribucion de cada dimensión\n",
    "total = #completa\n",
    "acumulado = # completa, usa np.cumsum\n",
    "contribucion = #completa\n",
    "acum_df = pd.DataFrame({'acumulado':acumulado, 'contribucion':contribucion})\n",
    "acum_df.round(3)"
   ]
  },
  {
   "cell_type": "markdown",
   "metadata": {},
   "source": [
    "Las primeras tres dimensiones tienen calidad de 88\\%, y la primera es mucho más importante"
   ]
  },
  {
   "cell_type": "markdown",
   "metadata": {},
   "source": [
    "## 4. Interpretación"
   ]
  },
  {
   "cell_type": "markdown",
   "metadata": {},
   "source": [
    "Si en la primera componente todos los valores de u y de v son negativos, podemos multiplicar ambos por -1 sin cambiar nada en la descomposición, y facilitamos la interpretación"
   ]
  },
  {
   "cell_type": "code",
   "execution_count": null,
   "metadata": {},
   "outputs": [],
   "source": [
    "if(v[0,0] < 0):\n",
    "    u[:, 0] = - u[:,0]\n",
    "    v[:, 0] = - v[:,0]\n",
    "\n",
    "#scores\n",
    "u_df = pd.DataFrame(u)\n",
    "u_df['estado'] = estado_tbl.index\n",
    "u_df.set_index('estado')\n",
    "#pesos\n",
    "v_df = pd.DataFrame(v)\n",
    "v_df['variable'] = estado_tbl.columns\n",
    "v_df.set_index('variable')\n",
    "\n",
    "v_df.round(2).sort_values(1)\n"
   ]
  },
  {
   "cell_type": "markdown",
   "metadata": {},
   "source": [
    "Ahora nótese que:\n",
    "\n",
    "1. La primera componente es un promedio ponderado de todas las variables. Este es un índice de marginación a nivel estado.\n",
    "2. La segunda componente tiene valores altos para las variable de piso de tierra, carencia de electiricidad y agua entubada, y valores negativos para carencia de drenaje.\n",
    "\n",
    "Por lo tanto:\n",
    "\n",
    "1. Aquellos estados con score alto en la primera componente tienden a tener niveles altos en todas las variables: son estados más marginados\n",
    "2. Aquellos estados con score alto en la segunda componente tienden a tener realtivamente más carencia de electricidad, agua y piso de tierra (infraestructura básica). Los de score negativo más bien tienen carencia de drenaje (¿por qué es diferente drenaje a agua entubada por ejemplo?), hacinamiento y bajos salarios.\n",
    "\n",
    "Veamos los estados en las primeras dos dimensiones:"
   ]
  },
  {
   "cell_type": "code",
   "execution_count": null,
   "metadata": {},
   "outputs": [],
   "source": [
    "#import sys\n",
    "#!{sys.executable} -m pip install adjustText"
   ]
  },
  {
   "cell_type": "code",
   "execution_count": null,
   "metadata": {},
   "outputs": [],
   "source": [
    "import plotnine\n",
    "plotnine.theme_set(plotnine.theme_minimal())\n",
    "from adjustText import adjust_text\n",
    "\n",
    "u_graf = u_df.copy()\n",
    "u_graf.columns = u_graf.columns.astype('str')\n",
    "u_graf.reset_index(inplace=True)\n",
    "adjust_pars = {'expand_points': (1.5, 1.5), 'arrowprops': {'arrowstyle': '-', 'color':'gray'}}\n",
    "(ggplot(u_graf, aes('0', '1', label = 'estado')) + geom_point(color=\"red\") + \n",
    "    geom_text(size=8, color=\"gray\", adjust_text = adjust_pars) +\n",
    "    xlab('Dimensión 1') + ylab('Dimensión 2') )"
   ]
  },
  {
   "cell_type": "markdown",
   "metadata": {},
   "source": [
    "**Pregunta 1**: compara baja california sur con Tlaxcala, que son similares en marginación pero tienen\n",
    "muy distintos valores en la dimensión 2 \n",
    "\n",
    "**Pregunta 2**: puedes explicar por qué Yucatán sale tan bajo en la dimensión 2?\n"
   ]
  },
  {
   "cell_type": "code",
   "execution_count": null,
   "metadata": {},
   "outputs": [],
   "source": [
    "# pregunta 1\n",
    "# filtra para contestar esta pregunta usa la tabla estandarizada para empezar\n",
    "\n"
   ]
  },
  {
   "cell_type": "markdown",
   "metadata": {},
   "source": [
    "Aquí escribe tu interpretación:\n"
   ]
  },
  {
   "cell_type": "code",
   "execution_count": null,
   "metadata": {},
   "outputs": [],
   "source": [
    "#  pregunta 2 agregamos yucatán\n"
   ]
  },
  {
   "cell_type": "markdown",
   "metadata": {},
   "source": [
    "Aqui tu explicación_\n",
    "\n"
   ]
  },
  {
   "cell_type": "markdown",
   "metadata": {},
   "source": [
    "Podemos colorear estas tablas para examinarlas mejor:"
   ]
  },
  {
   "cell_type": "code",
   "execution_count": null,
   "metadata": {},
   "outputs": [],
   "source": [
    "def color_negative_red(val):\n",
    "    \"\"\"\n",
    "    Takes a scalar and returns a string with\n",
    "    the css property `'color: red'` for negative\n",
    "    strings, black otherwise.\n",
    "    \"\"\"\n",
    "    color = 'gray'\n",
    "    if val < -0.2:\n",
    "        color = 'red'\n",
    "    if val > 0.2:\n",
    "        color= 'black'\n",
    "    return 'color: %s' % color\n",
    "\n",
    "tabla_color = estado_tbl_est.loc[('Yucatan','Baja California Sur' , 'Tlaxcala'), :]. \\\n",
    "    round(1). \\\n",
    "    style.applymap(color_negative_red)\n",
    "tabla_color"
   ]
  },
  {
   "cell_type": "markdown",
   "metadata": {},
   "source": [
    "## 5. Verificar SVD"
   ]
  },
  {
   "cell_type": "markdown",
   "metadata": {},
   "source": [
    "Finalmente, verificamos que en efecto se cumple la SVD para estos datos cuando usamos todas las dimensiones"
   ]
  },
  {
   "cell_type": "code",
   "execution_count": null,
   "metadata": {},
   "outputs": [],
   "source": [
    "# hacer el cálculo de la svd\n",
    "approx = np.matmul(u * s, v.transpose())\n",
    "# ver que son iguales\n",
    "np.max(abs(estado_tbl_est.values - approx)).round(10)"
   ]
  }
 ],
 "metadata": {
  "jupytext": {
   "formats": "ipynb,Rmd"
  },
  "kernelspec": {
   "display_name": "Python 3",
   "language": "python",
   "name": "python3"
  },
  "language_info": {
   "codemirror_mode": {
    "name": "ipython",
    "version": 3
   },
   "file_extension": ".py",
   "mimetype": "text/x-python",
   "name": "python",
   "nbconvert_exporter": "python",
   "pygments_lexer": "ipython3",
   "version": "3.7.3"
  }
 },
 "nbformat": 4,
 "nbformat_minor": 2
}
