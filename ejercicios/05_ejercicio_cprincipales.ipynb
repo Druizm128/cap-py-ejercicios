{
 "cells": [
  {
   "cell_type": "markdown",
   "metadata": {},
   "source": [
    "# Ejercicio componentes principales"
   ]
  },
  {
   "cell_type": "code",
   "execution_count": null,
   "metadata": {},
   "outputs": [],
   "source": [
    "%autosave 0\n",
    "import pandas as pd\n",
    "import numpy as np\n",
    "from plotnine import *\n",
    "from numpy.linalg import svd"
   ]
  },
  {
   "cell_type": "markdown",
   "metadata": {},
   "source": [
    "Datos de whiskies de Escocia:"
   ]
  },
  {
   "cell_type": "code",
   "execution_count": null,
   "metadata": {},
   "outputs": [],
   "source": [
    "whisky = pd.read_csv('../datos/whiskies.csv')\n",
    "whisky.info()"
   ]
  },
  {
   "cell_type": "code",
   "execution_count": null,
   "metadata": {},
   "outputs": [],
   "source": [
    "trad_columnas = {'Body':'Cuerpo', 'Sweetness':'Dulzura', 'Smoky':'Humoso', 'Tobacco':'Tabaco',\n",
    "                'Honey':'Miel', 'Spicy':'Picante', 'Winey':'Vinoso', 'Nutty':'Nuez',\n",
    "                'Malty':'Malta', 'Fruity':'Afrutado'}\n",
    "whisky = whisky.rename(columns=trad_columnas)\n",
    "whisky.describe()"
   ]
  },
  {
   "cell_type": "markdown",
   "metadata": {},
   "source": [
    "Haremos el análisis para algunos whiskies y dejaremos otros fuera"
   ]
  },
  {
   "cell_type": "code",
   "execution_count": null,
   "metadata": {},
   "outputs": [],
   "source": [
    "whisky"
   ]
  },
  {
   "cell_type": "code",
   "execution_count": null,
   "metadata": {},
   "outputs": [],
   "source": [
    "whisky_entrena = whisky.iloc[0:80, :]\n",
    "whisky_prueba = whisky.iloc[80:, :]"
   ]
  },
  {
   "cell_type": "markdown",
   "metadata": {},
   "source": [
    "### 1. Calcular componentes"
   ]
  },
  {
   "cell_type": "markdown",
   "metadata": {},
   "source": [
    "Calcula componentes para los whiskies del conjunto de entrenamiento"
   ]
  },
  {
   "cell_type": "code",
   "execution_count": null,
   "metadata": {},
   "outputs": [],
   "source": [
    "from sklearn.decomposition import PCA\n",
    "pca = PCA()\n",
    "# ajustar - esto centra los datos automáticamente\n",
    "nombres_vars  = whisky.loc[:,'Cuerpo':'Floral'].columns\n",
    "whisky_pca = # aquí tu código\n",
    "# varianza explicada\n",
    "var_componente = np.append(0, whisky_pca.explained_variance_)\n",
    "var_acumulada = # calcula acumulado\n",
    "var_acumulada_pct = # calcula\n",
    "\n",
    "var_pct_df = pd.DataFrame({'varianza_acum':var_acumulada_pct,\n",
    "                          'varianza_comp':var_componente}).reset_index()\n",
    "var_pct_df"
   ]
  },
  {
   "cell_type": "markdown",
   "metadata": {},
   "source": [
    "Grafica e interpreta la varianza acumulada"
   ]
  },
  {
   "cell_type": "code",
   "execution_count": null,
   "metadata": {},
   "outputs": [],
   "source": [
    "(ggplot(var_pct_df, aes('index', 'varianza_acum')) + geom_line() + geom_point())"
   ]
  },
  {
   "cell_type": "markdown",
   "metadata": {},
   "source": [
    "Haz una *gráfica de sedimentación* de la varianza explicada por componente (componente vs varianza explicada de la componente."
   ]
  },
  {
   "cell_type": "code",
   "execution_count": null,
   "metadata": {},
   "outputs": [],
   "source": [
    "# calcula los datos\n",
    "graf_scree_df = #filtra el primer elemento\n",
    "# grafica\n",
    "#(ggplot())"
   ]
  },
  {
   "cell_type": "markdown",
   "metadata": {},
   "source": [
    "**Idea de gráfica de sedimentación**: Escoger las componentes que aportan mucho, detenernos cuando no aportan mucha \n",
    "    varianza relativa. ¿Cuántas componentes seleccionamos según este criterio?"
   ]
  },
  {
   "cell_type": "markdown",
   "metadata": {},
   "source": [
    "## 2. Interpretar componentes"
   ]
  },
  {
   "cell_type": "markdown",
   "metadata": {},
   "source": [
    "Interpreta las primeras dos componentes usando los pesos:"
   ]
  },
  {
   "cell_type": "code",
   "execution_count": null,
   "metadata": {},
   "outputs": [],
   "source": [
    "comps_2 = #saca primeras dos componentes\n",
    "comps_df = pd.DataFrame(comps_2)\n",
    "comps_df.index = nombres_vars\n",
    "comps_df # ordena para interpetar componente 1\n"
   ]
  },
  {
   "cell_type": "code",
   "execution_count": null,
   "metadata": {},
   "outputs": [],
   "source": [
    "comps_df # ordena para interpetar componente 2\n"
   ]
  },
  {
   "cell_type": "markdown",
   "metadata": {},
   "source": [
    "**Interpretación**\n",
    "\n",
    "1. La componente uno xxxxxxxxxx\n",
    "2. La componente dos xxxxxxxxxxxx"
   ]
  },
  {
   "cell_type": "markdown",
   "metadata": {},
   "source": [
    "### 3. Graficar"
   ]
  },
  {
   "cell_type": "markdown",
   "metadata": {},
   "source": [
    "Grafica los scores de los whiskies para las primeras dos componentes. "
   ]
  },
  {
   "cell_type": "code",
   "execution_count": null,
   "metadata": {},
   "outputs": [],
   "source": [
    "scores = # calcula scores\n",
    "scores.shape\n",
    "scores_2 = scores[:, 0:2]\n",
    "scores_entrena_df = pd.DataFrame(scores_2).rename(columns = {0:'Comp_1', 1:'Comp_2'})\n",
    "scores_entrena_df"
   ]
  },
  {
   "cell_type": "code",
   "execution_count": null,
   "metadata": {},
   "outputs": [],
   "source": [
    "##grafica \n",
    "## (ggplot("
   ]
  },
  {
   "cell_type": "markdown",
   "metadata": {},
   "source": [
    "### 4. Ajustar para nuevos datos"
   ]
  },
  {
   "cell_type": "markdown",
   "metadata": {},
   "source": [
    "Ahora calcula los scores de los whiskies (usando transform, sin reajustar) que dejamos fuera. Agrega el nombre de la destilería."
   ]
  },
  {
   "cell_type": "code",
   "execution_count": null,
   "metadata": {},
   "outputs": [],
   "source": [
    "scores_prueba = whisky_pca.transform(whisky_prueba.loc[:,'Cuerpo':'Floral'])[: ,0:2]\n",
    "scores_prueba_df = pd.DataFrame(scores_prueba).rename(columns = {0:'Comp_1', 1:'Comp_2'})\n",
    "scores_prueba_df['destilería'] = whisky_prueba['Distillery'].values\n",
    "scores_prueba_df"
   ]
  },
  {
   "cell_type": "markdown",
   "metadata": {},
   "source": [
    "Ahora añade estos puntos a la gráfica anterior. Pon las etiquetas de estos nuevos 8 whiskies:"
   ]
  },
  {
   "cell_type": "code",
   "execution_count": null,
   "metadata": {},
   "outputs": [],
   "source": [
    "scores_entrena_df['destilería'] = ''\n",
    "scores_entrena_df['tipo'] = 'entrena'\n",
    "scores_prueba_df['tipo'] = 'prueba'\n",
    "scores = pd.concat([scores_entrena_df, scores_prueba_df], sort=False)\n",
    "(ggplot(scores, aes('Comp_1', 'Comp_2', color='tipo', label='destilería')) + geom_point() + geom_text())"
   ]
  },
  {
   "cell_type": "markdown",
   "metadata": {},
   "source": [
    "**Pregunta extra**: Haz cuadrantes y ponle nombres a los cuadrantes, para crear una *gráfica de consultor*"
   ]
  }
 ],
 "metadata": {
  "jupytext": {
   "formats": "ipynb,Rmd"
  },
  "kernelspec": {
   "display_name": "Python 3",
   "language": "python",
   "name": "python3"
  },
  "language_info": {
   "codemirror_mode": {
    "name": "ipython",
    "version": 3
   },
   "file_extension": ".py",
   "mimetype": "text/x-python",
   "name": "python",
   "nbconvert_exporter": "python",
   "pygments_lexer": "ipython3",
   "version": "3.7.3"
  }
 },
 "nbformat": 4,
 "nbformat_minor": 2
}
