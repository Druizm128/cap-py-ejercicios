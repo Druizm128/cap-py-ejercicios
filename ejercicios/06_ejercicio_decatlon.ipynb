{
 "cells": [
  {
   "cell_type": "markdown",
   "metadata": {},
   "source": [
    "# Ejercicio de componentes principales: Decatlón"
   ]
  },
  {
   "cell_type": "markdown",
   "metadata": {},
   "source": [
    "Los siguientes datos son resultados para varios atletas en la competencia de Decatlón"
   ]
  },
  {
   "cell_type": "code",
   "execution_count": null,
   "metadata": {},
   "outputs": [],
   "source": [
    "import numpy as np\n",
    "import pandas as pd\n",
    "from plotnine import *\n",
    "from sklearn.decomposition import PCA\n",
    "decatlon = pd.read_csv(\"../datos/decatlon.csv\")\n",
    "decatlon"
   ]
  },
  {
   "cell_type": "markdown",
   "metadata": {},
   "source": [
    "### Pregunta 1\n",
    "Describe las variables y considera si es necesario estandarizar estas variables para aplicar pca (o dvs)."
   ]
  },
  {
   "cell_type": "code",
   "execution_count": null,
   "metadata": {},
   "outputs": [],
   "source": [
    "# aquí tu código"
   ]
  },
  {
   "cell_type": "markdown",
   "metadata": {},
   "source": [
    "Aquí tu respuesta"
   ]
  },
  {
   "cell_type": "markdown",
   "metadata": {},
   "source": [
    "### Pregunta 3\n",
    "Calcula componentes principales sin estandarizar (independientemente de tu respuesta de la pregunta anterior) y describe qué porcentaje de la varianza contribuye cada componente. Interpreta las primeras componentes"
   ]
  },
  {
   "cell_type": "code",
   "execution_count": null,
   "metadata": {},
   "outputs": [],
   "source": [
    "pca = PCA()\n",
    "# aquí tu código para porcentaje de varianza"
   ]
  },
  {
   "cell_type": "markdown",
   "metadata": {},
   "source": [
    "Respuesta??"
   ]
  },
  {
   "cell_type": "code",
   "execution_count": null,
   "metadata": {},
   "outputs": [],
   "source": [
    "# extraer pesos\n",
    "v = pca_decatlon.components_.transpose()\n",
    "comps_2 = pd.DataFrame({'comp_1':v[:,0].reshape(-1), 'comp_2':v[:,1].reshape(-1)})\n",
    "comps_2['variable'] = decatlon.columns[1:11]\n",
    "comps_2"
   ]
  },
  {
   "cell_type": "markdown",
   "metadata": {},
   "source": [
    "Respuesta?"
   ]
  },
  {
   "cell_type": "markdown",
   "metadata": {},
   "source": [
    "### Pregunta 4\n",
    "Calcula componentes principales estandarizando y describe qué porcentaje \n",
    "de la varianza contribuye cada componente. Interpreta la **primera componente**"
   ]
  },
  {
   "cell_type": "code",
   "execution_count": null,
   "metadata": {},
   "outputs": [],
   "source": [
    "decatlon_num = decatlon.loc[:, '100m':'1500m']\n",
    "## respuesta"
   ]
  },
  {
   "cell_type": "markdown",
   "metadata": {},
   "source": [
    "Las primeras dos componentes explican el 50% de la varianza, y las primeras 3 64%"
   ]
  },
  {
   "cell_type": "code",
   "execution_count": null,
   "metadata": {},
   "outputs": [],
   "source": [
    "v = pca_decatlon.components_.transpose()\n",
    "comps_2 = pd.DataFrame(v)\n",
    "comps_2['variable'] = decatlon.columns[1:11]\n",
    "comps_2.round(2)"
   ]
  },
  {
   "cell_type": "markdown",
   "metadata": {},
   "source": [
    "Aquí tu interpretación"
   ]
  },
  {
   "cell_type": "markdown",
   "metadata": {},
   "source": [
    "### Pregunta 5\n",
    "En la tabla estandarizada, multiplica por menos las variables cuyo desempeño es peor cuando son más altas (las carreras) \n",
    "para facilitar la interpetación.\n",
    "\n",
    "\n",
    "\n",
    "\n",
    "Calcula componentes principales estandarizando y describe qué porcentaje \n",
    "de la varianza contribuye cada componente. \n",
    "\n",
    "¿Cómo cambia esto con respecto a la pregunta anterior?\n",
    "\n",
    "Interpreta las primeras componentes más importantes."
   ]
  },
  {
   "cell_type": "code",
   "execution_count": null,
   "metadata": {},
   "outputs": [],
   "source": [
    "decatlon_est_norm = decatlon_est.div([-1, 1, 1, 1, -1, -1, 1, 1, 1, -1], axis = 'columns')\n",
    "pca_decatlon = pca.fit(decatlon_est_norm)\n",
    "# aqui tu codigo"
   ]
  },
  {
   "cell_type": "code",
   "execution_count": null,
   "metadata": {},
   "outputs": [],
   "source": [
    "v = pca_decatlon.components_.transpose()\n",
    "comps = pd.DataFrame(v)\n",
    "comps['variable'] = decatlon.columns[1:11]\n",
    "comps.round(2).sort_values(1)"
   ]
  },
  {
   "cell_type": "markdown",
   "metadata": {},
   "source": [
    "Aquí tu interpretación de las primeras tres componentes"
   ]
  },
  {
   "cell_type": "markdown",
   "metadata": {},
   "source": [
    "### Pregunta 6\n",
    "Haz un biplot de las primeras dos componentes"
   ]
  },
  {
   "cell_type": "code",
   "execution_count": null,
   "metadata": {},
   "outputs": [],
   "source": [
    "import matplotlib.pyplot as plt\n",
    "def biplot(score,coeff,labels,observation_indexes):\n",
    "    xs = score[:,0]\n",
    "    ys = score[:,1]\n",
    "    n = coeff.shape[0]\n",
    "    scalex = 1.0/(xs.max() - xs.min())\n",
    "    scaley = 1.0/(ys.max() - ys.min())\n",
    "    fig, ax = plt.subplots(figsize=(12,12))\n",
    "    ax.scatter(xs * scalex,ys * scaley,s=5, color=\"gray\")\n",
    "    for i in range(n):\n",
    "        ax.arrow(0, 0, coeff[i,0], coeff[i,1],color = 'r',alpha = 0.5)\n",
    "        ax.text(coeff[i,0]* 1.15, coeff[i,1] * 1.15, labels[i], color = 'g', ha = 'center', va = 'center')\n",
    "    for i in range(len(observation_indexes)):    \n",
    "        ax.text(xs[i] * scalex, ys[i] * scaley, observation_indexes[i], color = 'black', ha = 'center', va = 'center')\n",
    "    ax.set_xlabel(\"Comp. {}\".format(1))\n",
    "    ax.set_ylabel(\"Comp. {}\".format(2))\n",
    "    ax.grid()\n",
    "    ax.axis('equal')\n",
    "    plt.show()\n",
    "\n",
    "## aquí tu codigo   \n"
   ]
  }
 ],
 "metadata": {
  "jupytext": {
   "formats": "ipynb,Rmd"
  },
  "kernelspec": {
   "display_name": "Python 3",
   "language": "python",
   "name": "python3"
  },
  "language_info": {
   "codemirror_mode": {
    "name": "ipython",
    "version": 3
   },
   "file_extension": ".py",
   "mimetype": "text/x-python",
   "name": "python",
   "nbconvert_exporter": "python",
   "pygments_lexer": "ipython3",
   "version": "3.7.3"
  }
 },
 "nbformat": 4,
 "nbformat_minor": 2
}
