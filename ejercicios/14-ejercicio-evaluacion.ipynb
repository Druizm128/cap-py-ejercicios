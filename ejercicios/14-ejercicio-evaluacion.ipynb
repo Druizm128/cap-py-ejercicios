{
 "cells": [
  {
   "cell_type": "markdown",
   "metadata": {},
   "source": [
    "## Ejercicio de evaluación de modelos"
   ]
  },
  {
   "cell_type": "code",
   "execution_count": null,
   "metadata": {},
   "outputs": [],
   "source": [
    "%autosave 0\n",
    "import pandas as pd\n",
    "import numpy as np\n",
    "from plotnine import *\n",
    "from plotnine.labels import xlab, ylab\n",
    "from sklearn.model_selection import train_test_split\n",
    "from sklearn.metrics import classification_report\n",
    "from sklearn.metrics import confusion_matrix\n",
    "from sklearn.metrics import accuracy_score\n",
    "from sklearn import preprocessing\n",
    "from sklearn.linear_model import LogisticRegression\n",
    "from sklearn.tree import DecisionTreeClassifier\n",
    "from sklearn.preprocessing import StandardScaler"
   ]
  },
  {
   "cell_type": "markdown",
   "metadata": {},
   "source": [
    "### Datos\n",
    "\n",
    "**En este conjunto de datos queremos predecir qué clientes compran un nuevo producto\n",
    "en términos de varias variables demográficas, variables de segmentación y variables de conducta.**\n",
    "\n",
    "Todas las variables son numéricas, excepto MOSTYPE, MOSHOOFD\n",
    "\n",
    "\n",
    "MOSTYPE: Customer Subtype; see L0\n",
    "MAANTHUI: Number of houses 1 - 10\n",
    "MGEMOMV: Avg size household 1 - 6\n",
    "MGEMLEEF: Avg age; see L1\n",
    "MOSHOOFD: Customer main type; see L2\n",
    "\n",
    "\n",
    "MGODRK: Roman catholic\n",
    "MGODPR: Protestant …\n",
    "MGODOV: Other religion\n",
    "MGODGE: No religion\n",
    "MRELGE: Married\n",
    "MRELSA: Living together\n",
    "MRELOV: Other relation\n",
    "MFALLEEN: Singles\n",
    "MFGEKIND: Household without children\n",
    "MFWEKIND: Household with children\n",
    "MOPLHOOG: High level education\n",
    "MOPLMIDD: Medium level education\n",
    "MOPLLAAG: Lower level education\n",
    "MBERHOOG: High status\n",
    "MBERZELF: Entrepreneur\n",
    "MBERBOER: Farmer\n",
    "MBERMIDD: Middle management\n",
    "MBERARBG: Skilled labourers\n",
    "MBERARBO: Unskilled labourers\n",
    "MSKA: Social class A\n",
    "MSKB1: Social class B1\n",
    "MSKB2: Social class B2\n",
    "MSKC: Social class C\n",
    "MSKD: Social class D\n",
    "MHHUUR: Rented house\n",
    "MHKOOP: Home owners\n",
    "MAUT1: 1 car\n",
    "MAUT2: 2 cars\n",
    "MAUT0: No car\n",
    "MZFONDS: National Health Service\n",
    "MZPART: Private health insurance\n",
    "MINKM30: Income < 30.000\n",
    "MINK3045: Income 30-45.000\n",
    "MINK4575: Income 45-75.000\n",
    "MINK7512: Income 75-122.000\n",
    "MINK123M: Income >123.000\n",
    "MINKGEM: Average income\n",
    "MKOOPKLA: Purchasing power class\n",
    "\n",
    "PWAPART: Contribution private third party insurance\n",
    "PWABEDR: Contribution third party insurance (firms) …\n",
    "PWALAND: Contribution third party insurane (agriculture)\n",
    "PPERSAUT: Contribution car policies\n",
    "PBESAUT: Contribution delivery van policies\n",
    "PMOTSCO: Contribution motorcycle/scooter policies\n",
    "PVRAAUT: Contribution lorry policies\n",
    "PAANHANG: Contribution trailer policies\n",
    "PTRACTOR: Contribution tractor policies\n",
    "PWERKT: Contribution agricultural machines policies\n",
    "PBROM: Contribution moped policies\n",
    "PLEVEN: Contribution life insurances\n",
    "PPERSONG: Contribution private accident insurance policies\n",
    "PGEZONG: Contribution family accidents insurance policies\n",
    "PWAOREG: Contribution disability insurance policies\n",
    "PBRAND: Contribution fire policies\n",
    "PZEILPL: Contribution surfboard policies\n",
    "PPLEZIER: Contribution boat policies\n",
    "PFIETS: Contribution bicycle policies\n",
    "PINBOED: Contribution property insurance policies\n",
    "PBYSTAND: Contribution social security insurance policies\n",
    "AWAPART: Number of private third party insurance 1 - 12\n",
    "AWABEDR: Number of third party insurance (firms) …\n",
    "AWALAND: Number of third party insurance (agriculture)\n",
    "APERSAUT: Number of car policies\n",
    "ABESAUT: Number of delivery van policies\n",
    "AMOTSCO: Number of motorcycle/scooter policies\n",
    "AVRAAUT: Number of lorry policies\n",
    "AAANHANG: Number of trailer policies\n",
    "ATRACTOR: Number of tractor policies\n",
    "AWERKT: Number of agricultural machines policies\n",
    "ABROM: Number of moped policies\n",
    "ALEVEN: Number of life insurances\n",
    "APERSONG: Number of private accident insurance policies\n",
    "AGEZONG: Number of family accidents insurance policies\n",
    "AWAOREG: Number of disability insurance policies\n",
    "ABRAND: Number of fire policies\n",
    "AZEILPL: Number of surfboard policies\n",
    "APLEZIER: Number of boat policies\n",
    "AFIETS: Number of bicycle policies\n",
    "AINBOED: Number of property insurance policies\n",
    "ABYSTAND: Number of social security insurance policies\n",
    "CARAVAN: Number of mobile home policies 0 - 1\n",
    "\n",
    "L0: Customer subtype\n",
    "\n",
    "1: High Income, expensive child\n",
    "2: Very Important Provincials\n",
    "3: High status seniors\n",
    "4: Affluent senior apartments\n",
    "5: Mixed seniors\n",
    "6: Career and childcare\n",
    "7: Dinki's (double income no kids)\n",
    "8: Middle class families\n",
    "9: Modern, complete families\n",
    "10: Stable family\n",
    "11: Family starters\n",
    "12: Affluent young families\n",
    "13: Young all american family\n",
    "14: Junior cosmopolitan\n",
    "15: Senior cosmopolitans\n",
    "16: Students in apartments\n",
    "17: Fresh masters in the city\n",
    "18: Single youth\n",
    "19: Suburban youth\n",
    "20: Etnically diverse\n",
    "21: Young urban have-nots\n",
    "22: Mixed apartment dwellers\n",
    "23: Young and rising\n",
    "24: Young, low educated\n",
    "25: Young seniors in the city\n",
    "26: Own home elderly\n",
    "27: Seniors in apartments\n",
    "28: Residential elderly\n",
    "29: Porchless seniors: no front yard\n",
    "30: Religious elderly singles\n",
    "31: Low income catholics\n",
    "32: Mixed seniors\n",
    "33: Lower class large families\n",
    "34: Large family, employed child\n",
    "35: Village families\n",
    "36: Couples with teens 'Married with children'\n",
    "37: Mixed small town dwellers\n",
    "38: Traditional families\n",
    "39: Large religous families\n",
    "40: Large family farms\n",
    "41: Mixed rurals\n",
    "\n",
    "L2: customer main type keys:\n",
    "\n",
    "1: Successful hedonists\n",
    "2: Driven Growers\n",
    "3: Average Family\n",
    "4: Career Loners\n",
    "5: Living well\n",
    "6: Cruising Seniors\n",
    "7: Retired and Religeous\n",
    "8: Family with grown ups\n",
    "9: Conservative families\n",
    "10: Farmers"
   ]
  },
  {
   "cell_type": "code",
   "execution_count": null,
   "metadata": {},
   "outputs": [],
   "source": [
    "caravan = pd.read_csv('../datos/caravan-insurance-challenge.csv')\n",
    "caravan"
   ]
  },
  {
   "cell_type": "code",
   "execution_count": null,
   "metadata": {},
   "outputs": [],
   "source": [
    "from sklearn.preprocessing import OneHotEncoder\n",
    "\n",
    "columnas = caravan.columns[2:86]\n",
    "print(columnas)\n",
    "def preprocesar_caravan(datos, tipo, columnas):\n",
    "    datos_p = datos.copy()\n",
    "    datos_tipo = pd.get_dummies(datos_p.MOSHOOFD, prefix=\"tipo\", drop_first = True)\n",
    "    datos_p = datos_p.drop(columns = [\"MOSHOOFD\"])\n",
    "    datos_p = pd.concat([datos_tipo, datos_p], sort=False)\n",
    "    datos_origen = datos[datos[\"ORIGIN\"] == tipo].drop(columns = [\"ORIGIN\"])\n",
    "    X = datos_origen[columnas].values\n",
    "    y = datos_origen[\"CARAVAN\"].values\n",
    "    return X, y\n",
    "X_ent, y_ent = preprocesar_caravan(caravan, \"train\", columnas)\n",
    "X_ent.shape\n",
    "np.unique(y_ent, return_counts=True)"
   ]
  },
  {
   "cell_type": "markdown",
   "metadata": {},
   "source": [
    "Nótese que hay muy pocos valores de la clase positiva (es un producto que no es muy popular)."
   ]
  },
  {
   "cell_type": "markdown",
   "metadata": {},
   "source": [
    "###  Ajuste de modelo\n",
    "\n",
    "Probaremos con regresión logística regularizada. Para hacer eso de manera más efectiva preprocesamos los datos para estandarizarlos"
   ]
  },
  {
   "cell_type": "code",
   "execution_count": null,
   "metadata": {},
   "outputs": [],
   "source": [
    "escalador = StandardScaler()\n",
    "escalador_ajustado = escalador.fit(X_ent)\n",
    "X_ent_esc = escalador_ajustado.transform(X_ent)"
   ]
  },
  {
   "cell_type": "code",
   "execution_count": null,
   "metadata": {},
   "outputs": [],
   "source": [
    "reg_caravan = LogisticRegression(solver='newton-cg', C = 0.1 )\n",
    "reg_caravan_ajuste = reg_caravan.fit(X_ent_esc, y_ent)"
   ]
  },
  {
   "cell_type": "code",
   "execution_count": null,
   "metadata": {},
   "outputs": [],
   "source": [
    "reg_caravan_ajuste.coef_"
   ]
  },
  {
   "cell_type": "markdown",
   "metadata": {},
   "source": [
    "## Evaluación\n",
    "\n",
    "1. Probaremos con perdida logarítmica, matriz de confusión, curvas ROC y precisión-exhaustividad\n",
    "2. Checaremos calibración de las probabilidades obtenidas"
   ]
  },
  {
   "cell_type": "code",
   "execution_count": null,
   "metadata": {},
   "outputs": [],
   "source": [
    "from sklearn.metrics import log_loss\n",
    "from sklearn.metrics import classification_report\n",
    "from sklearn.metrics import confusion_matrix\n",
    "from sklearn.metrics import roc_curve\n",
    "from sklearn.metrics import roc_auc_score\n",
    "from sklearn.metrics import precision_recall_curve\n",
    "from sklearn.metrics import average_precision_score\n",
    "\n",
    "# preprocesar\n",
    "X_pr, y_pr = preprocesar_caravan(caravan, \"test\", columnas)\n",
    "X_pr_esc = escalador_ajustado.transform(X_pr)\n",
    "# calcular probabilidades\n",
    "probas  = reg_caravan_ajuste.predict_proba(X_pr_esc)\n",
    "# calcular pérdida\n",
    "log_perdida = log_loss(y_pr, probas[:, 1])\n",
    "log_perdida.round(3)"
   ]
  },
  {
   "cell_type": "code",
   "execution_count": null,
   "metadata": {},
   "outputs": [],
   "source": [
    "confusion_matrix(y_pr, reg_caravan_ajuste.predict(X_pr_esc))\n"
   ]
  },
  {
   "cell_type": "markdown",
   "metadata": {},
   "source": [
    "Nota que parece que nuestro modelo casi no hace predicciones positivas. Pero esto es usando un punto de corte de 0.5. Sin embargo, la curva ROC indica que estamos capturando información valiosa acerca de la compra del producto. Podemos buscar otros puntos de cortes que puedan ser valiosos para tomar decisiones (por ejemplo, sensibilidad 50% a una tasa de falsos positivos de 0.25)"
   ]
  },
  {
   "cell_type": "code",
   "execution_count": null,
   "metadata": {},
   "outputs": [],
   "source": [
    "\n",
    "tfp, tvp, cortes = roc_curve(y_pr, probas[:,1])\n",
    "datos_roc = pd.DataFrame({\"tfp\":tfp, \"tvp\":tvp, \"corte\":cortes})\n",
    "print(\"AUC:\", roc_auc_score(y_pr, probas[:,1]).round(3))\n",
    "(ggplot(datos_roc, aes(\"tfp\", \"tvp\")) \n",
    "  + geom_step(size=1.5)\n",
    "  + geom_abline(slope=1, intercept=0)\n",
    "  + xlab(\"Tasa de falsos positivos\") + ylab(\"Sensibilidad\"))\n"
   ]
  },
  {
   "cell_type": "code",
   "execution_count": null,
   "metadata": {},
   "outputs": [],
   "source": [
    "prop_positivo = 348/(5474+ 348)\n",
    "print(\"Proporción positivos: \", round(prop_positivo,2))\n",
    "prec, rec, cortes = precision_recall_curve(y_pr, probas[:,1])\n",
    "datos_prc = pd.DataFrame({\"Precision\":prec[5:-5], \"Exhaustividad\":rec[5:-5]})\n",
    "print(\"Precisión promedio:\", average_precision_score(y_pr, probas[:,1]).round(3))\n",
    "(ggplot(datos_prc, aes(\"Exhaustividad\", \"Precision\")) \n",
    "  + geom_point(size=1.5)\n",
    "  + geom_hline(yintercept = 348/(5474+ 348))\n",
    "  + scale_y_continuous(breaks = np.linspace(0.1, 0.8, 8))\n",
    ")\n",
    " "
   ]
  },
  {
   "cell_type": "markdown",
   "metadata": {},
   "source": [
    "Ahora checamos la calibración de las proabilidades obtenidas"
   ]
  },
  {
   "cell_type": "code",
   "execution_count": null,
   "metadata": {},
   "outputs": [],
   "source": [
    "from sklearn.calibration import calibration_curve\n",
    "num_cubetas = 20\n",
    "prop_positivos, pred_media_cubeta = calibration_curve(y_pr, probas[:, 1],  \n",
    "  n_bins = num_cubetas, strategy = \"quantile\")\n",
    "curva_cal = pd.DataFrame({\"prediccion\":pred_media_cubeta, \"prop_pos\":prop_positivos})\n",
    "curva_cal"
   ]
  },
  {
   "cell_type": "code",
   "execution_count": null,
   "metadata": {},
   "outputs": [],
   "source": [
    "n_cubeta = round(len(y_pr) / num_cubetas)\n",
    "n_cubeta\n",
    "curva_cal[\"ee\"] = np.sqrt(curva_cal[\"prop_pos\"]*( 1 - curva_cal[\"prop_pos\"]) / n_cubeta)\n",
    "curva_cal[\"min\"] = curva_cal[\"prop_pos\"] - 2 * curva_cal[\"ee\"]\n",
    "curva_cal[\"max\"] = curva_cal[\"prop_pos\"] + 2 * curva_cal[\"ee\"]\n",
    "(ggplot(curva_cal, aes(\"prediccion\", \"prop_positivos\", ymin=\"min\", ymax=\"max\"))\n",
    "  + geom_abline(slope=1, intercept=0)\n",
    "  + geom_point(color = \"red\")\n",
    "  + geom_linerange()) "
   ]
  }
 ],
 "metadata": {
  "jupytext": {
   "formats": "ipynb,Rmd"
  },
  "kernelspec": {
   "display_name": "Python 3",
   "language": "python",
   "name": "python3"
  },
  "language_info": {
   "codemirror_mode": {
    "name": "ipython",
    "version": 3
   },
   "file_extension": ".py",
   "mimetype": "text/x-python",
   "name": "python",
   "nbconvert_exporter": "python",
   "pygments_lexer": "ipython3",
   "version": "3.7.3"
  }
 },
 "nbformat": 4,
 "nbformat_minor": 2
}
