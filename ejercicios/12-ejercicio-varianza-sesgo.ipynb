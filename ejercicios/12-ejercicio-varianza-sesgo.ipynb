{
 "cells": [
  {
   "cell_type": "markdown",
   "metadata": {},
   "source": [
    "# Ejercicio 12: varianza y sesgo"
   ]
  },
  {
   "cell_type": "markdown",
   "metadata": {},
   "source": [
    "En este ejercicio consideramos regresión, regresión kernel y k vecinos más cercanos para un ejemplo simple.\n",
    "¿Qué modelos funcionan mejor para este ejemplo?"
   ]
  },
  {
   "cell_type": "code",
   "execution_count": 1,
   "metadata": {},
   "outputs": [
    {
     "data": {
      "application/javascript": [
       "IPython.notebook.set_autosave_interval(0)"
      ]
     },
     "metadata": {},
     "output_type": "display_data"
    },
    {
     "name": "stdout",
     "output_type": "stream",
     "text": [
      "Autosave disabled\n"
     ]
    }
   ],
   "source": [
    "%autosave 0\n",
    "import pandas as pd\n",
    "import numpy as np\n",
    "import matplotlib.pyplot as plt\n",
    "from plotnine import *"
   ]
  },
  {
   "cell_type": "markdown",
   "metadata": {},
   "source": [
    "Creamos un conjunto de datos simulado. Puedes cambiar la semilla o la forma de la curva:"
   ]
  },
  {
   "cell_type": "code",
   "execution_count": 76,
   "metadata": {},
   "outputs": [
    {
     "data": {
      "text/html": [
       "<div>\n",
       "<style scoped>\n",
       "    .dataframe tbody tr th:only-of-type {\n",
       "        vertical-align: middle;\n",
       "    }\n",
       "\n",
       "    .dataframe tbody tr th {\n",
       "        vertical-align: top;\n",
       "    }\n",
       "\n",
       "    .dataframe thead th {\n",
       "        text-align: right;\n",
       "    }\n",
       "</style>\n",
       "<table border=\"1\" class=\"dataframe\">\n",
       "  <thead>\n",
       "    <tr style=\"text-align: right;\">\n",
       "      <th></th>\n",
       "      <th>x</th>\n",
       "      <th>y</th>\n",
       "    </tr>\n",
       "  </thead>\n",
       "  <tbody>\n",
       "    <tr>\n",
       "      <th>0</th>\n",
       "      <td>1</td>\n",
       "      <td>1553.240369</td>\n",
       "    </tr>\n",
       "    <tr>\n",
       "      <th>1</th>\n",
       "      <td>7</td>\n",
       "      <td>2581.118364</td>\n",
       "    </tr>\n",
       "    <tr>\n",
       "      <th>2</th>\n",
       "      <td>10</td>\n",
       "      <td>4319.140103</td>\n",
       "    </tr>\n",
       "    <tr>\n",
       "      <th>3</th>\n",
       "      <td>0</td>\n",
       "      <td>-882.370952</td>\n",
       "    </tr>\n",
       "    <tr>\n",
       "      <th>4</th>\n",
       "      <td>0</td>\n",
       "      <td>222.207659</td>\n",
       "    </tr>\n",
       "    <tr>\n",
       "      <th>5</th>\n",
       "      <td>5</td>\n",
       "      <td>2220.347888</td>\n",
       "    </tr>\n",
       "    <tr>\n",
       "      <th>6</th>\n",
       "      <td>9</td>\n",
       "      <td>3398.353863</td>\n",
       "    </tr>\n",
       "    <tr>\n",
       "      <th>7</th>\n",
       "      <td>10</td>\n",
       "      <td>3698.673952</td>\n",
       "    </tr>\n",
       "    <tr>\n",
       "      <th>8</th>\n",
       "      <td>11</td>\n",
       "      <td>2477.930516</td>\n",
       "    </tr>\n",
       "    <tr>\n",
       "      <th>9</th>\n",
       "      <td>13</td>\n",
       "      <td>3051.755280</td>\n",
       "    </tr>\n",
       "    <tr>\n",
       "      <th>10</th>\n",
       "      <td>2</td>\n",
       "      <td>758.676994</td>\n",
       "    </tr>\n",
       "    <tr>\n",
       "      <th>11</th>\n",
       "      <td>4</td>\n",
       "      <td>2484.701439</td>\n",
       "    </tr>\n",
       "    <tr>\n",
       "      <th>12</th>\n",
       "      <td>17</td>\n",
       "      <td>3610.424805</td>\n",
       "    </tr>\n",
       "    <tr>\n",
       "      <th>13</th>\n",
       "      <td>18</td>\n",
       "      <td>3262.977731</td>\n",
       "    </tr>\n",
       "    <tr>\n",
       "      <th>14</th>\n",
       "      <td>1</td>\n",
       "      <td>1543.819387</td>\n",
       "    </tr>\n",
       "    <tr>\n",
       "      <th>15</th>\n",
       "      <td>2</td>\n",
       "      <td>1796.630984</td>\n",
       "    </tr>\n",
       "  </tbody>\n",
       "</table>\n",
       "</div>"
      ],
      "text/plain": [
       "     x            y\n",
       "0    1  1553.240369\n",
       "1    7  2581.118364\n",
       "2   10  4319.140103\n",
       "3    0  -882.370952\n",
       "4    0   222.207659\n",
       "5    5  2220.347888\n",
       "6    9  3398.353863\n",
       "7   10  3698.673952\n",
       "8   11  2477.930516\n",
       "9   13  3051.755280\n",
       "10   2   758.676994\n",
       "11   4  2484.701439\n",
       "12  17  3610.424805\n",
       "13  18  3262.977731\n",
       "14   1  1543.819387\n",
       "15   2  1796.630984"
      ]
     },
     "execution_count": 76,
     "metadata": {},
     "output_type": "execute_result"
    }
   ],
   "source": [
    "np.random.seed(4112)\n",
    "x_entrena = np.array([1,7,10,0,0,5,9,10, 11, 13,2,4,17,18,1,2])\n",
    "#x_entrena = np.random.randint(0, 20, 100)\n",
    "def f(x):\n",
    "  if x < 10:\n",
    "    u = 1000*np.sqrt(x)\n",
    "  else:\n",
    "    u = 1000*np.sqrt(10)\n",
    "  return u\n",
    "y_entrena = np.array(list(map(f, x_entrena))) + 500*np.random.randn(x_entrena.size)\n",
    "datos_entrena = pd.DataFrame({\"x\": x_entrena, \"y\" : y_entrena})\n",
    "datos_entrena"
   ]
  },
  {
   "cell_type": "markdown",
   "metadata": {},
   "source": [
    "Usaremos tres métodos para hacer predicciones:"
   ]
  },
  {
   "cell_type": "code",
   "execution_count": 77,
   "metadata": {},
   "outputs": [],
   "source": [
    "from sklearn.neighbors import KNeighborsRegressor\n",
    "from sklearn.kernel_ridge import KernelRidge\n",
    "from sklearn.linear_model import LinearRegression\n",
    "from sklearn.gaussian_process import kernels\n",
    "# regresion lineal\n",
    "modelo_reg = LinearRegression()\n",
    "# regresión local con kernel \n",
    "rbf = kernels.RBF(length_scale = 15.0)\n",
    "modelo_kernel = KernelRidge(alpha = 0.1, kernel = rbf)\n",
    "# k vecinos más cercano\n",
    "modelo_kvmc = KNeighborsRegressor(4, weights = \"distance\")"
   ]
  },
  {
   "cell_type": "markdown",
   "metadata": {},
   "source": [
    "Ajustamos los modelos y calculamos predicciones:"
   ]
  },
  {
   "cell_type": "code",
   "execution_count": 78,
   "metadata": {},
   "outputs": [
    {
     "data": {
      "text/plain": [
       "(16, 1)"
      ]
     },
     "execution_count": 78,
     "metadata": {},
     "output_type": "execute_result"
    }
   ],
   "source": [
    "# Creamos matriz de entradas: solo hay una en este caso\n",
    "X_entrena = x_entrena.reshape(-1, 1)\n",
    "X_entrena.shape\n"
   ]
  },
  {
   "cell_type": "code",
   "execution_count": 79,
   "metadata": {},
   "outputs": [],
   "source": [
    "# ajustamos\n",
    "ajuste_reg = modelo_reg.fit(X_entrena, y_entrena)\n",
    "ajuste_kernel = modelo_kernel.fit(X_entrena, y_entrena)\n",
    "ajuste_kvmc = modelo_kvmc.fit(X_entrena, y_entrena)"
   ]
  },
  {
   "cell_type": "markdown",
   "metadata": {},
   "source": [
    "Ahora hacemos predicciones:"
   ]
  },
  {
   "cell_type": "code",
   "execution_count": 80,
   "metadata": {},
   "outputs": [],
   "source": [
    "# Calcular predicciones en datos de prueba\n",
    "x = np.linspace(0, 20, 100)\n",
    "X_pred = x.reshape(-1, 1)\n",
    "preds_reg = ajuste_reg.predict(X_pred)\n",
    "preds_kernel = ajuste_kernel.predict(X_pred)\n",
    "preds_kvmc = ajuste_kvmc.predict(X_pred)"
   ]
  },
  {
   "cell_type": "code",
   "execution_count": 81,
   "metadata": {},
   "outputs": [
    {
     "data": {
      "text/html": [
       "<div>\n",
       "<style scoped>\n",
       "    .dataframe tbody tr th:only-of-type {\n",
       "        vertical-align: middle;\n",
       "    }\n",
       "\n",
       "    .dataframe tbody tr th {\n",
       "        vertical-align: top;\n",
       "    }\n",
       "\n",
       "    .dataframe thead th {\n",
       "        text-align: right;\n",
       "    }\n",
       "</style>\n",
       "<table border=\"1\" class=\"dataframe\">\n",
       "  <thead>\n",
       "    <tr style=\"text-align: right;\">\n",
       "      <th></th>\n",
       "      <th>x</th>\n",
       "      <th>y</th>\n",
       "      <th>tipo</th>\n",
       "    </tr>\n",
       "  </thead>\n",
       "  <tbody>\n",
       "    <tr>\n",
       "      <th>0</th>\n",
       "      <td>0.000000</td>\n",
       "      <td>993.146299</td>\n",
       "      <td>reg</td>\n",
       "    </tr>\n",
       "    <tr>\n",
       "      <th>1</th>\n",
       "      <td>0.202020</td>\n",
       "      <td>1030.257938</td>\n",
       "      <td>reg</td>\n",
       "    </tr>\n",
       "    <tr>\n",
       "      <th>2</th>\n",
       "      <td>0.404040</td>\n",
       "      <td>1067.369578</td>\n",
       "      <td>reg</td>\n",
       "    </tr>\n",
       "    <tr>\n",
       "      <th>3</th>\n",
       "      <td>0.606061</td>\n",
       "      <td>1104.481217</td>\n",
       "      <td>reg</td>\n",
       "    </tr>\n",
       "    <tr>\n",
       "      <th>4</th>\n",
       "      <td>0.808081</td>\n",
       "      <td>1141.592856</td>\n",
       "      <td>reg</td>\n",
       "    </tr>\n",
       "    <tr>\n",
       "      <th>...</th>\n",
       "      <td>...</td>\n",
       "      <td>...</td>\n",
       "      <td>...</td>\n",
       "    </tr>\n",
       "    <tr>\n",
       "      <th>95</th>\n",
       "      <td>19.191919</td>\n",
       "      <td>4518.752032</td>\n",
       "      <td>reg</td>\n",
       "    </tr>\n",
       "    <tr>\n",
       "      <th>96</th>\n",
       "      <td>19.393939</td>\n",
       "      <td>4555.863672</td>\n",
       "      <td>reg</td>\n",
       "    </tr>\n",
       "    <tr>\n",
       "      <th>97</th>\n",
       "      <td>19.595960</td>\n",
       "      <td>4592.975311</td>\n",
       "      <td>reg</td>\n",
       "    </tr>\n",
       "    <tr>\n",
       "      <th>98</th>\n",
       "      <td>19.797980</td>\n",
       "      <td>4630.086950</td>\n",
       "      <td>reg</td>\n",
       "    </tr>\n",
       "    <tr>\n",
       "      <th>99</th>\n",
       "      <td>20.000000</td>\n",
       "      <td>4667.198589</td>\n",
       "      <td>reg</td>\n",
       "    </tr>\n",
       "  </tbody>\n",
       "</table>\n",
       "<p>100 rows × 3 columns</p>\n",
       "</div>"
      ],
      "text/plain": [
       "            x            y tipo\n",
       "0    0.000000   993.146299  reg\n",
       "1    0.202020  1030.257938  reg\n",
       "2    0.404040  1067.369578  reg\n",
       "3    0.606061  1104.481217  reg\n",
       "4    0.808081  1141.592856  reg\n",
       "..        ...          ...  ...\n",
       "95  19.191919  4518.752032  reg\n",
       "96  19.393939  4555.863672  reg\n",
       "97  19.595960  4592.975311  reg\n",
       "98  19.797980  4630.086950  reg\n",
       "99  20.000000  4667.198589  reg\n",
       "\n",
       "[100 rows x 3 columns]"
      ]
     },
     "execution_count": 81,
     "metadata": {},
     "output_type": "execute_result"
    }
   ],
   "source": [
    "df_reg = pd.DataFrame({'x':x, 'y':preds_reg, 'tipo':'reg'})\n",
    "df_reg"
   ]
  },
  {
   "cell_type": "code",
   "execution_count": 82,
   "metadata": {},
   "outputs": [
    {
     "data": {
      "text/html": [
       "<div>\n",
       "<style scoped>\n",
       "    .dataframe tbody tr th:only-of-type {\n",
       "        vertical-align: middle;\n",
       "    }\n",
       "\n",
       "    .dataframe tbody tr th {\n",
       "        vertical-align: top;\n",
       "    }\n",
       "\n",
       "    .dataframe thead th {\n",
       "        text-align: right;\n",
       "    }\n",
       "</style>\n",
       "<table border=\"1\" class=\"dataframe\">\n",
       "  <thead>\n",
       "    <tr style=\"text-align: right;\">\n",
       "      <th></th>\n",
       "      <th>x</th>\n",
       "      <th>y</th>\n",
       "      <th>tipo</th>\n",
       "    </tr>\n",
       "  </thead>\n",
       "  <tbody>\n",
       "    <tr>\n",
       "      <th>0</th>\n",
       "      <td>0.000000</td>\n",
       "      <td>993.146299</td>\n",
       "      <td>reg</td>\n",
       "    </tr>\n",
       "    <tr>\n",
       "      <th>1</th>\n",
       "      <td>0.202020</td>\n",
       "      <td>1030.257938</td>\n",
       "      <td>reg</td>\n",
       "    </tr>\n",
       "    <tr>\n",
       "      <th>2</th>\n",
       "      <td>0.404040</td>\n",
       "      <td>1067.369578</td>\n",
       "      <td>reg</td>\n",
       "    </tr>\n",
       "    <tr>\n",
       "      <th>3</th>\n",
       "      <td>0.606061</td>\n",
       "      <td>1104.481217</td>\n",
       "      <td>reg</td>\n",
       "    </tr>\n",
       "    <tr>\n",
       "      <th>4</th>\n",
       "      <td>0.808081</td>\n",
       "      <td>1141.592856</td>\n",
       "      <td>reg</td>\n",
       "    </tr>\n",
       "    <tr>\n",
       "      <th>...</th>\n",
       "      <td>...</td>\n",
       "      <td>...</td>\n",
       "      <td>...</td>\n",
       "    </tr>\n",
       "    <tr>\n",
       "      <th>95</th>\n",
       "      <td>19.191919</td>\n",
       "      <td>3281.072893</td>\n",
       "      <td>kvmc</td>\n",
       "    </tr>\n",
       "    <tr>\n",
       "      <th>96</th>\n",
       "      <td>19.393939</td>\n",
       "      <td>3276.146072</td>\n",
       "      <td>kvmc</td>\n",
       "    </tr>\n",
       "    <tr>\n",
       "      <th>97</th>\n",
       "      <td>19.595960</td>\n",
       "      <td>3271.175509</td>\n",
       "      <td>kvmc</td>\n",
       "    </tr>\n",
       "    <tr>\n",
       "      <th>98</th>\n",
       "      <td>19.797980</td>\n",
       "      <td>3266.278364</td>\n",
       "      <td>kvmc</td>\n",
       "    </tr>\n",
       "    <tr>\n",
       "      <th>99</th>\n",
       "      <td>20.000000</td>\n",
       "      <td>3261.518694</td>\n",
       "      <td>kvmc</td>\n",
       "    </tr>\n",
       "  </tbody>\n",
       "</table>\n",
       "<p>300 rows × 3 columns</p>\n",
       "</div>"
      ],
      "text/plain": [
       "            x            y  tipo\n",
       "0    0.000000   993.146299   reg\n",
       "1    0.202020  1030.257938   reg\n",
       "2    0.404040  1067.369578   reg\n",
       "3    0.606061  1104.481217   reg\n",
       "4    0.808081  1141.592856   reg\n",
       "..        ...          ...   ...\n",
       "95  19.191919  3281.072893  kvmc\n",
       "96  19.393939  3276.146072  kvmc\n",
       "97  19.595960  3271.175509  kvmc\n",
       "98  19.797980  3266.278364  kvmc\n",
       "99  20.000000  3261.518694  kvmc\n",
       "\n",
       "[300 rows x 3 columns]"
      ]
     },
     "execution_count": 82,
     "metadata": {},
     "output_type": "execute_result"
    }
   ],
   "source": [
    "df_kernel = pd.DataFrame({'x':x, 'y':preds_kernel, 'tipo':'kernel'})\n",
    "df_kvmc = pd.DataFrame({'x':x, 'y':preds_kvmc, 'tipo':'kvmc'})\n",
    "ajuste_grafs_df = pd.concat([df_reg, df_kernel, df_kvmc])\n",
    "ajuste_grafs_df"
   ]
  },
  {
   "cell_type": "code",
   "execution_count": 83,
   "metadata": {},
   "outputs": [
    {
     "data": {
      "image/png": "[encoded data removed]",
      "text/plain": [
       "<Figure size 640x480 with 1 Axes>"
      ]
     },
     "metadata": {
      "needs_background": "light"
     },
     "output_type": "display_data"
    },
    {
     "data": {
      "text/plain": [
       "<ggplot: (8775581638625)>"
      ]
     },
     "execution_count": 83,
     "metadata": {},
     "output_type": "execute_result"
    }
   ],
   "source": [
    "graf_ajustes  = (ggplot(ajuste_grafs_df, aes(x = \"x\", y= \"y\", \n",
    "  group=\"tipo\", color=\"tipo\")) \n",
    "  + geom_line(size = 2) \n",
    "  + geom_point(data = datos_entrena.assign(tipo = \"datos\")) + theme_minimal())\n",
    "graf_ajustes"
   ]
  },
  {
   "cell_type": "markdown",
   "metadata": {},
   "source": [
    "Calculamos errores de prueba"
   ]
  },
  {
   "cell_type": "code",
   "execution_count": 84,
   "metadata": {},
   "outputs": [
    {
     "data": {
      "text/html": [
       "<div>\n",
       "<style scoped>\n",
       "    .dataframe tbody tr th:only-of-type {\n",
       "        vertical-align: middle;\n",
       "    }\n",
       "\n",
       "    .dataframe tbody tr th {\n",
       "        vertical-align: top;\n",
       "    }\n",
       "\n",
       "    .dataframe thead th {\n",
       "        text-align: right;\n",
       "    }\n",
       "</style>\n",
       "<table border=\"1\" class=\"dataframe\">\n",
       "  <thead>\n",
       "    <tr style=\"text-align: right;\">\n",
       "      <th></th>\n",
       "      <th>x</th>\n",
       "      <th>y</th>\n",
       "    </tr>\n",
       "  </thead>\n",
       "  <tbody>\n",
       "    <tr>\n",
       "      <th>0</th>\n",
       "      <td>4.0</td>\n",
       "      <td>2274.517477</td>\n",
       "    </tr>\n",
       "    <tr>\n",
       "      <th>1</th>\n",
       "      <td>2.0</td>\n",
       "      <td>851.333087</td>\n",
       "    </tr>\n",
       "    <tr>\n",
       "      <th>2</th>\n",
       "      <td>7.0</td>\n",
       "      <td>2480.202200</td>\n",
       "    </tr>\n",
       "    <tr>\n",
       "      <th>3</th>\n",
       "      <td>16.0</td>\n",
       "      <td>3209.107487</td>\n",
       "    </tr>\n",
       "    <tr>\n",
       "      <th>4</th>\n",
       "      <td>15.0</td>\n",
       "      <td>3566.662909</td>\n",
       "    </tr>\n",
       "    <tr>\n",
       "      <th>...</th>\n",
       "      <td>...</td>\n",
       "      <td>...</td>\n",
       "    </tr>\n",
       "    <tr>\n",
       "      <th>1995</th>\n",
       "      <td>13.0</td>\n",
       "      <td>2587.718311</td>\n",
       "    </tr>\n",
       "    <tr>\n",
       "      <th>1996</th>\n",
       "      <td>16.0</td>\n",
       "      <td>3134.420796</td>\n",
       "    </tr>\n",
       "    <tr>\n",
       "      <th>1997</th>\n",
       "      <td>17.0</td>\n",
       "      <td>2242.339886</td>\n",
       "    </tr>\n",
       "    <tr>\n",
       "      <th>1998</th>\n",
       "      <td>12.0</td>\n",
       "      <td>3562.886238</td>\n",
       "    </tr>\n",
       "    <tr>\n",
       "      <th>1999</th>\n",
       "      <td>17.0</td>\n",
       "      <td>2586.397720</td>\n",
       "    </tr>\n",
       "  </tbody>\n",
       "</table>\n",
       "<p>2000 rows × 2 columns</p>\n",
       "</div>"
      ],
      "text/plain": [
       "         x            y\n",
       "0      4.0  2274.517477\n",
       "1      2.0   851.333087\n",
       "2      7.0  2480.202200\n",
       "3     16.0  3209.107487\n",
       "4     15.0  3566.662909\n",
       "...    ...          ...\n",
       "1995  13.0  2587.718311\n",
       "1996  16.0  3134.420796\n",
       "1997  17.0  2242.339886\n",
       "1998  12.0  3562.886238\n",
       "1999  17.0  2586.397720\n",
       "\n",
       "[2000 rows x 2 columns]"
      ]
     },
     "execution_count": 84,
     "metadata": {},
     "output_type": "execute_result"
    }
   ],
   "source": [
    "from sklearn.metrics import mean_squared_error\n",
    "\n",
    "X_prueba = np.random.randint(0, 20, 2000).reshape(-1, 1)\n",
    "y_prueba = np.array(list(map(f, X_prueba[:,0]))) + 500*np.random.randn(X_prueba.shape[0])\n",
    "datos_prueba = pd.DataFrame(np.column_stack((X_prueba, y_prueba)), columns = ['x', 'y'])\n",
    "datos_prueba"
   ]
  },
  {
   "cell_type": "code",
   "execution_count": 85,
   "metadata": {},
   "outputs": [
    {
     "data": {
      "text/plain": [
       "tipo\n",
       "kernel    570.0\n",
       "knn       622.0\n",
       "reg       777.0\n",
       "Name: prueba, dtype: float64"
      ]
     },
     "execution_count": 85,
     "metadata": {},
     "output_type": "execute_result"
    }
   ],
   "source": [
    "preds_reg = ajuste_reg.predict(X_prueba)\n",
    "preds_kernel = ajuste_kernel.predict(X_prueba)\n",
    "preds_kvmc = ajuste_kvmc.predict(X_prueba)\n",
    "\n",
    "preds_ys = [preds_reg, preds_kernel, preds_kvmc]\n",
    "ajuste_grafs_dfs = map(lambda x: pd.DataFrame({\"x\":X_prueba[:,0], \"y\":x[0],\n",
    "  \"y_obs\":y_prueba, \"tipo\":x[1]}), \n",
    "  zip(preds_ys, [\"reg\", \"kernel\", \"knn\"]))\n",
    "preds_df = pd.concat(list(ajuste_grafs_dfs))\n",
    "error_prueba = preds_df.groupby(\"tipo\"). \\\n",
    "  apply(lambda df:np.sqrt(mean_squared_error(df.y_obs, df.y)).round(0))\n",
    "error_prueba.rename(\"prueba\", inplace = True)"
   ]
  },
  {
   "cell_type": "markdown",
   "metadata": {},
   "source": [
    "**Preguntas**:\n",
    "\n",
    "    - Repite usando distintas semillas para cambiar los datos iniciales. ¿Qué diferencias observas?\n",
    "    - Repite usando una muestra de entrenamiento más grande. ¿Cómo se comparan los métodos?\n",
    "    - Repite usando una función diferente (f) para generar los datos. Por ejemplo: ¿Qué pasa si es aproximadamente lineal?"
   ]
  },
  {
   "cell_type": "markdown",
   "metadata": {},
   "source": [
    "# Varianza y sesgo en dimensión alta"
   ]
  },
  {
   "cell_type": "markdown",
   "metadata": {},
   "source": [
    "Repetimos el ejemplo en dimensión alta. La función que queremos predecir es:"
   ]
  },
  {
   "cell_type": "code",
   "execution_count": 104,
   "metadata": {},
   "outputs": [
    {
     "data": {
      "text/plain": [
       "0.32627979462303947"
      ]
     },
     "execution_count": 104,
     "metadata": {},
     "output_type": "execute_result"
    }
   ],
   "source": [
    "def f(x):\n",
    "  return np.exp(-8 * np.sum(x**2))\n",
    "# por ejemplo\n",
    "f(np.array([0, 0, 0]))\n",
    "f(np.array([0.1, 0.2, -0.3]))"
   ]
  },
  {
   "cell_type": "code",
   "execution_count": 105,
   "metadata": {},
   "outputs": [
    {
     "data": {
      "text/plain": [
       "(1000, 2)"
      ]
     },
     "execution_count": 105,
     "metadata": {},
     "output_type": "execute_result"
    }
   ],
   "source": [
    "X = 2*np.random.rand(1000,2) - 1\n",
    "X.shape"
   ]
  },
  {
   "cell_type": "code",
   "execution_count": 106,
   "metadata": {},
   "outputs": [
    {
     "name": "stderr",
     "output_type": "stream",
     "text": [
      "/opt/conda/lib/python3.7/site-packages/plotnine/stats/stat_bin.py:93: PlotnineWarning: 'stat_bin()' using 'bins = 17'. Pick better value with 'binwidth'.\n",
      "  warn(msg.format(params['bins']), PlotnineWarning)\n"
     ]
    },
    {
     "data": {
      "image/png": "[encoded data removed]",
      "text/plain": [
       "<Figure size 640x480 with 1 Axes>"
      ]
     },
     "metadata": {},
     "output_type": "display_data"
    },
    {
     "data": {
      "text/plain": [
       "<ggplot: (8775580771378)>"
      ]
     },
     "execution_count": 106,
     "metadata": {},
     "output_type": "execute_result"
    }
   ],
   "source": [
    "def calc_dist(x):\n",
    "    return np.sqrt(np.sum(x**2))\n",
    "distancias = np.apply_along_axis(calc_dist, 1, X)\n",
    "dist_df = pd.DataFrame({'dist':distancias})\n",
    "dist_df\n",
    "(ggplot(dist_df, aes(x='dist')) + geom_histogram())"
   ]
  },
  {
   "cell_type": "markdown",
   "metadata": {},
   "source": [
    "Calcula el índice del punto mínimo y su valor $f$:"
   ]
  },
  {
   "cell_type": "code",
   "execution_count": 114,
   "metadata": {},
   "outputs": [
    {
     "data": {
      "text/plain": [
       "647"
      ]
     },
     "execution_count": 114,
     "metadata": {},
     "output_type": "execute_result"
    }
   ],
   "source": [
    "indice = np.argmin(distancias)\n",
    "indice"
   ]
  },
  {
   "cell_type": "code",
   "execution_count": 115,
   "metadata": {},
   "outputs": [
    {
     "data": {
      "text/plain": [
       "0.997872451804543"
      ]
     },
     "execution_count": 115,
     "metadata": {},
     "output_type": "execute_result"
    }
   ],
   "source": [
    "f(X[indice, :])"
   ]
  },
  {
   "cell_type": "markdown",
   "metadata": {},
   "source": [
    "**Pregunta**: repite en dimensión más alta (por ejemplo 10). ¿Qué pasa con las distancias? ¿Qué tan buena es la predicción del punto más cercano?"
   ]
  }
 ],
 "metadata": {
  "jupytext": {
   "formats": "ipynb,Rmd"
  },
  "kernelspec": {
   "display_name": "Python 3",
   "language": "python",
   "name": "python3"
  },
  "language_info": {
   "codemirror_mode": {
    "name": "ipython",
    "version": 3
   },
   "file_extension": ".py",
   "mimetype": "text/x-python",
   "name": "python",
   "nbconvert_exporter": "python",
   "pygments_lexer": "ipython3",
   "version": "3.7.3"
  }
 },
 "nbformat": 4,
 "nbformat_minor": 2
}
