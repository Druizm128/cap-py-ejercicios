{
 "cells": [
  {
   "cell_type": "markdown",
   "metadata": {},
   "source": [
    "# Ejercicio: índice de marginación"
   ]
  },
  {
   "cell_type": "markdown",
   "metadata": {},
   "source": [
    "Buscaremos representaciones de dimensión uno para los datos de marginación (2010) a nivel municipio de CONAPO."
   ]
  },
  {
   "cell_type": "code",
   "execution_count": null,
   "metadata": {},
   "outputs": [],
   "source": [
    "%autosave 0\n",
    "import pandas as pd\n",
    "import numpy as np\n",
    "from plotnine import *"
   ]
  },
  {
   "cell_type": "markdown",
   "metadata": {},
   "source": [
    "## 1. Descripción de datos"
   ]
  },
  {
   "cell_type": "markdown",
   "metadata": {},
   "source": [
    "Leemos los datos y vemos una descripción"
   ]
  },
  {
   "cell_type": "code",
   "execution_count": null,
   "metadata": {},
   "outputs": [],
   "source": [
    "marginacion = pd.read_csv(\"../datos/imm-2010.csv\")\n",
    "descrip = pd.read_csv(\"../datos/imm-2010-descrip.csv\", skiprows=2)\n",
    "pd.set_option('max_colwidth', 200)\n",
    "descrip"
   ]
  },
  {
   "cell_type": "code",
   "execution_count": null,
   "metadata": {},
   "outputs": [],
   "source": [
    "marginacion"
   ]
  },
  {
   "cell_type": "markdown",
   "metadata": {},
   "source": [
    "Calculamos algunos resúmenes de las variables numéricas (excluyendo el índice de marginación oficial)"
   ]
  },
  {
   "cell_type": "code",
   "execution_count": null,
   "metadata": {},
   "outputs": [],
   "source": [
    "marg_tabla = marginacion.loc[:,'ANALF':'PO2SM']\n",
    "marg_tabla\n",
    "# Cuantiles 0.1, 0.5 (mediana) y 0.9 , 0.99\n",
    "marg_tabla.quantile([0, .10, 0.5, 0.9, 0.99, 1]).stack().unstack(0).round(1)"
   ]
  },
  {
   "cell_type": "markdown",
   "metadata": {},
   "source": [
    "Todas las variables son porcentajes, y sus escalas no son tan distintas (argumenta)."
   ]
  },
  {
   "cell_type": "markdown",
   "metadata": {},
   "source": [
    "## 2. Aproximación de rango 1"
   ]
  },
  {
   "cell_type": "markdown",
   "metadata": {},
   "source": [
    "Nos interesa ahora construir una aproximación de rango 1 a esta tabla de datos de municipios. La idea principal\n",
    "es que si construimos una aproximación $X\\approx uv^t$, el vector $u$, cuya longitud es el número de municipios,\n",
    "nos de una **medición general de marginación**. Tendremos que checar que esta interpretación es la correcta."
   ]
  },
  {
   "cell_type": "markdown",
   "metadata": {},
   "source": [
    "En primer lugar, no daremos tratamiento a los indicadores. Usamos la función svd para extraer la primera componente (ver notas)"
   ]
  },
  {
   "cell_type": "code",
   "execution_count": null,
   "metadata": {},
   "outputs": [],
   "source": [
    "from numpy.linalg import svd\n",
    "u, s, v_t = ## aquí tu código\n",
    "signo = -1 ## por qué cambiar el signo?\n",
    "u = signo * u[:, 0].reshape(-1, 1)\n",
    "v = signo * v_t[0, :].reshape(-1, 1)\n",
    "s = s[0]"
   ]
  },
  {
   "cell_type": "markdown",
   "metadata": {},
   "source": [
    "Examina los pesos en el vector $v$ que corresponde a las variables:"
   ]
  },
  {
   "cell_type": "code",
   "execution_count": null,
   "metadata": {},
   "outputs": [],
   "source": [
    "pesos_variables = pd.DataFrame(v, index = marg_tabla.columns).rename(columns={0:'v'})\n",
    "pesos_variables.sort_values(by='v')"
   ]
  },
  {
   "cell_type": "markdown",
   "metadata": {},
   "source": [
    "**Pregunta**: ¿cómo interpretas estos números en término de la tabla de datos?"
   ]
  },
  {
   "cell_type": "markdown",
   "metadata": {},
   "source": [
    "## 3. Calidad de la aproximación"
   ]
  },
  {
   "cell_type": "markdown",
   "metadata": {},
   "source": [
    "Calcula la aproximación de rango 1 y compara contra los observados en la tabla"
   ]
  },
  {
   "cell_type": "code",
   "execution_count": null,
   "metadata": {},
   "outputs": [],
   "source": [
    "X_1 = # aqui tu código de la aproximación rango 1"
   ]
  },
  {
   "cell_type": "code",
   "execution_count": null,
   "metadata": {},
   "outputs": [],
   "source": [
    "X_1.shape"
   ]
  },
  {
   "cell_type": "code",
   "execution_count": null,
   "metadata": {},
   "outputs": [],
   "source": [
    "# Calcula residuales\n",
    "R = # escribe tu código\n",
    "R.shape"
   ]
  },
  {
   "cell_type": "code",
   "execution_count": null,
   "metadata": {},
   "outputs": [],
   "source": [
    "# Calcula porcentaje de tamaño de residuales vs tamaño de la tabla\n",
    "error_relativo = np.sum(R**2) / np.sum(marg_tabla.values**2)\n",
    "error_relativo.round(2)"
   ]
  },
  {
   "cell_type": "markdown",
   "metadata": {},
   "source": [
    "## 4. Examinar scores de municipios"
   ]
  },
  {
   "cell_type": "markdown",
   "metadata": {},
   "source": [
    "Haz un histograma o gráfica de cuantiles de los scores de los municipios"
   ]
  },
  {
   "cell_type": "code",
   "execution_count": null,
   "metadata": {},
   "outputs": [],
   "source": [
    "# Agrega a la tabla los scores\n",
    "marginacion['score_mun'] = u\n",
    "# Grafica\n",
    "ggplot(# completa) + # completa"
   ]
  },
  {
   "cell_type": "markdown",
   "metadata": {},
   "source": [
    "**Pregunta**: considerando el vector $v$ de pesos que vimos arriba y estos scores, ¿cómo interpretas el score de \n",
    "    municipios que acabamos de calcular?"
   ]
  },
  {
   "cell_type": "markdown",
   "metadata": {},
   "source": [
    "## 5. Municipios de score bajos y altos"
   ]
  },
  {
   "cell_type": "markdown",
   "metadata": {},
   "source": [
    "Encuentra el 1% municipios con score más bajo y el 1% con score más alto"
   ]
  },
  {
   "cell_type": "code",
   "execution_count": null,
   "metadata": {},
   "outputs": [],
   "source": [
    "marginacion['rank_score'] = # aquí tu código, puedes hacerlo de otra manera\n",
    "marginacion.loc[ marginacion['rank_score'] <= 0.01 ]"
   ]
  },
  {
   "cell_type": "code",
   "execution_count": null,
   "metadata": {},
   "outputs": [],
   "source": [
    "marginacion.loc[ marginacion['rank_score'] >= 0.99 ]"
   ]
  },
  {
   "cell_type": "markdown",
   "metadata": {},
   "source": [
    "**Pregunta**: ¿donde están ubicados los diez menos marginados y los diez más marginados? ¿Cómo se ven sus variables indicadoras en cada caso?"
   ]
  },
  {
   "cell_type": "markdown",
   "metadata": {},
   "source": [
    "## 6. Normalización de variables"
   ]
  },
  {
   "cell_type": "markdown",
   "metadata": {},
   "source": [
    "Como vimos antes, las variables que usamos tienen distintos niveles y dispersión. Esto produce que pesen más en el ajuste variables que tienen valores altos (pues influyen más en el error de aproximación). Podemos fijar la escala de las variables de entrada para evitar este efecto.\n",
    "\n",
    "Hay varias maneras de hacer esto (por ejemplo, restando media y dividiendo por desviación estándar, que veremos más adelante). Una manera es normalizando para el rango de las variables esté entre 0 y 1, excluyendo valores atípicos"
   ]
  },
  {
   "cell_type": "code",
   "execution_count": null,
   "metadata": {},
   "outputs": [],
   "source": [
    "#normaliza tabla para que esté aproximadamente entre 0 y 1\n",
    "#usamos un cuantil en lugar del máximo para no aplastar tanto \n",
    "#debido a atípicos superiores\n",
    "max_c = marg_tabla.quantile(0.95)\n",
    "max_c"
   ]
  },
  {
   "cell_type": "code",
   "execution_count": null,
   "metadata": {},
   "outputs": [],
   "source": [
    "marg_tabla_norm = marg_tabla / max_c\n",
    "marg_tabla_norm"
   ]
  },
  {
   "cell_type": "markdown",
   "metadata": {},
   "source": [
    "Ahora recalcula la aproximación de rango 1 y compara el índice que encontraste con el IMC reportado en la tabla (el valor oficial)"
   ]
  },
  {
   "cell_type": "code",
   "execution_count": null,
   "metadata": {},
   "outputs": [],
   "source": [
    "u, s, v_t = # aqui tu código\n",
    "signo = -1\n",
    "u = # completa \n",
    "v = # completa\n",
    "s = #completa \n",
    "u"
   ]
  },
  {
   "cell_type": "code",
   "execution_count": null,
   "metadata": {},
   "outputs": [],
   "source": [
    "# Agrega a la tabla los scores\n",
    "marginacion['score_mun_norm'] = u\n",
    "# Grafica comparando con el IM\n",
    "ggplot(#completa)"
   ]
  },
  {
   "cell_type": "markdown",
   "metadata": {},
   "source": [
    "Para comparar qué tan similares son las ordenaciones sugeridas por nuestro indice y el oficial, podemo usar la tau de Kendall, que mide que fracción de pares posible están en el mismo orden en los dos índices: "
   ]
  },
  {
   "cell_type": "code",
   "execution_count": null,
   "metadata": {},
   "outputs": [],
   "source": [
    "from scipy.stats import kendalltau\n",
    "kendalltau(marginacion['score_mun_norm'], marginacion['IM'])"
   ]
  },
  {
   "cell_type": "markdown",
   "metadata": {},
   "source": [
    "Finalmente, los pesos nuevos son:"
   ]
  },
  {
   "cell_type": "code",
   "execution_count": null,
   "metadata": {},
   "outputs": [],
   "source": [
    "pesos_variables = pd.DataFrame(v, index = marg_tabla.columns).rename(columns={0:'v'})\n",
    "pesos_variables.sort_values(by='v')"
   ]
  },
  {
   "cell_type": "markdown",
   "metadata": {},
   "source": [
    "## 7. Pesos y scores"
   ]
  },
  {
   "cell_type": "markdown",
   "metadata": {},
   "source": [
    "Veremos ahora un aspecto importante de los vectores $u$ de scores y $v$ de pesos, y de por qué su nombre.\n",
    "Empezamos recordando los pesos del vector $v$:"
   ]
  },
  {
   "cell_type": "code",
   "execution_count": null,
   "metadata": {},
   "outputs": [],
   "source": [
    "pesos_variables = pd.DataFrame(v, index = marg_tabla.columns).rename(columns={0:'v'})\n",
    "pesos_variables.sort_values(by='v')"
   ]
  },
  {
   "cell_type": "markdown",
   "metadata": {},
   "source": [
    "Ahora creamos un índice ponderando las variables originales por estos pesos. Esto se hace multiplicando la tabla original $X$ por los pesos $v$:"
   ]
  },
  {
   "cell_type": "code",
   "execution_count": null,
   "metadata": {},
   "outputs": [],
   "source": [
    "X = marg_tabla_norm.values\n",
    "indice_ponderado = #multiplica X por v\n",
    "indice_ponderado.shape"
   ]
  },
  {
   "cell_type": "markdown",
   "metadata": {},
   "source": [
    "Y ahora comparamos con los scores $v$ que calculamos antes:"
   ]
  },
  {
   "cell_type": "code",
   "execution_count": null,
   "metadata": {},
   "outputs": [],
   "source": [
    "comp_df = # haz un dataframe con el indice ponderado\n",
    "comp_df['sigma*u'] = # agrega u escalado por s\n",
    "comp_df"
   ]
  },
  {
   "cell_type": "markdown",
   "metadata": {},
   "source": [
    "### Los scores $u$ son las variables originales ponderadas por los pesos $v$ (módulo una constante) \n",
    "\n",
    "Discutiremos más adelante por qué es cierta en general esta afirmación que nos permite interpetar de manera simple scores y pesos."
   ]
  },
  {
   "cell_type": "markdown",
   "metadata": {},
   "source": [
    "## 8. Análisis estandarizando variables"
   ]
  },
  {
   "cell_type": "markdown",
   "metadata": {},
   "source": [
    "**Pregunta**: repite ahora estandarizando con media y desviación estándar"
   ]
  },
  {
   "cell_type": "code",
   "execution_count": null,
   "metadata": {},
   "outputs": [],
   "source": [
    "# aquí tu código, encuentra u, v y sigma\n",
    "# estandariza la tabla\n",
    "marg_tabla_est = # estandariza la tabla\n",
    "# svd\n",
    "#\n",
    "# Agrega a la tabla los scores, estandarizando u\n",
    "#\n",
    "# Grafica comparando con el IM\n",
    "#"
   ]
  },
  {
   "cell_type": "markdown",
   "metadata": {},
   "source": [
    "## 9. Segunda dimensión latente"
   ]
  },
  {
   "cell_type": "markdown",
   "metadata": {},
   "source": [
    "El índice de marginación nos da la primera aproximación a la tabla de datos de marginación por municipio, y es la mejor\n",
    "aproximación de rango 1. Buscaremos ahora mejorar nuestra solución agregando otra componente de rango 2"
   ]
  },
  {
   "cell_type": "code",
   "execution_count": null,
   "metadata": {},
   "outputs": [],
   "source": [
    "from numpy.linalg import svd\n",
    "# puedes usar la tabla de standarizados también si la calculaste\n",
    "# en el ejercicio anterior\n",
    "U, S, V_t = svd(marg_tabla_norm.values)\n",
    "signo = -1\n",
    "u_1 = signo * U[:, 0].reshape(-1, 1)\n",
    "v_1 = signo * V_t[0, :].reshape(-1, 1)\n",
    "s_1 = S[0]\n",
    "v_1"
   ]
  },
  {
   "cell_type": "markdown",
   "metadata": {},
   "source": [
    "La calidad porcentual de aproximación, por lo que acabamos de notar, se calcula como"
   ]
  },
  {
   "cell_type": "code",
   "execution_count": null,
   "metadata": {},
   "outputs": [],
   "source": [
    "X_norma = # calcula la norma de X\n",
    "X_norma"
   ]
  },
  {
   "cell_type": "code",
   "execution_count": null,
   "metadata": {},
   "outputs": [],
   "source": [
    "calidad = # calcula calidad de rango 1\n",
    "calidad"
   ]
  },
  {
   "cell_type": "markdown",
   "metadata": {},
   "source": [
    "Ahora consideramos la segunda dimensión latente"
   ]
  },
  {
   "cell_type": "code",
   "execution_count": null,
   "metadata": {},
   "outputs": [],
   "source": [
    "u_2 = # extrae dimensión 2\n",
    "v_2 = #\n",
    "s_2 = #\n",
    "\n",
    "pesos_variables_2 = pd.DataFrame(v_2, index = marg_tabla_norm.columns).rename(columns={0:'v_2'})\n",
    "pesos_variables_2.sort_values(by='v_2')"
   ]
  },
  {
   "cell_type": "markdown",
   "metadata": {},
   "source": [
    "**Pregunta**: interpeta estos pesos. ¿Cuándo el score de un municipio es alto en esta dimensión? ¿Cuál es el patrón en los datos que está capturando esta segunda dimensión? "
   ]
  },
  {
   "cell_type": "markdown",
   "metadata": {},
   "source": [
    "Calcula ahora la calidad de la representación con dos dimensiones latentes"
   ]
  },
  {
   "cell_type": "code",
   "execution_count": null,
   "metadata": {},
   "outputs": [],
   "source": [
    "calidad = # calcula calidad con dos dimensiones\n",
    "calidad"
   ]
  },
  {
   "cell_type": "markdown",
   "metadata": {},
   "source": [
    "**Pregunta**. qué tanto aporta esta segunda dimensión en comparación a la primera?"
   ]
  },
  {
   "cell_type": "markdown",
   "metadata": {},
   "source": [
    "Ahora checa que los dos vectores $u_1$ y $u_2$ son ortogonales (igual para los $v$)"
   ]
  },
  {
   "cell_type": "code",
   "execution_count": null,
   "metadata": {},
   "outputs": [],
   "source": [
    "np.matmul(u_1.transpose(), u_2)\n",
    "np.matmul(v_1.transpose(), v_2)"
   ]
  },
  {
   "cell_type": "markdown",
   "metadata": {},
   "source": [
    "## 10. Interpretación de segunda dimensión latente"
   ]
  },
  {
   "cell_type": "markdown",
   "metadata": {},
   "source": [
    "Usa el siguiente código para interpetar la segunda dimensión que encontramos"
   ]
  },
  {
   "cell_type": "code",
   "execution_count": null,
   "metadata": {},
   "outputs": [],
   "source": [
    "marginacion = marginacion.drop(['score_mun', 'rank_score', 'score_mun_norm', 'score_mun_est'], axis = 1)"
   ]
  },
  {
   "cell_type": "code",
   "execution_count": null,
   "metadata": {},
   "outputs": [],
   "source": [
    "marginacion['score_mun_1'] = u_1\n",
    "marginacion['score_mun_2'] = u_2\n",
    "marginacion['rank_score_2'] = marginacion['score_mun_2'].rank(method = 'first') / len(marginacion)\n",
    "marginacion.loc[ marginacion['rank_score_2'] >= 0.997 ]"
   ]
  },
  {
   "cell_type": "code",
   "execution_count": null,
   "metadata": {},
   "outputs": [],
   "source": [
    "marginacion.loc[ marginacion['rank_score_2'] <= 0.003]"
   ]
  },
  {
   "cell_type": "code",
   "execution_count": null,
   "metadata": {},
   "outputs": [],
   "source": [
    "marginacion.loc[marginacion['NOM_MUN'].isin(['San Andres Duraznal', 'San Lorenzo Cuaunecuiltitla', 'Chinipas', 'Batopilas'])]"
   ]
  },
  {
   "cell_type": "code",
   "execution_count": null,
   "metadata": {},
   "outputs": [],
   "source": [
    "(ggplot(marginacion, aes('score_mun_1', 'score_mun_2', color='OVSEE')) + geom_point())"
   ]
  }
 ],
 "metadata": {
  "jupytext": {
   "formats": "ipynb,Rmd"
  },
  "kernelspec": {
   "display_name": "Python 3",
   "language": "python",
   "name": "python3"
  },
  "language_info": {
   "codemirror_mode": {
    "name": "ipython",
    "version": 3
   },
   "file_extension": ".py",
   "mimetype": "text/x-python",
   "name": "python",
   "nbconvert_exporter": "python",
   "pygments_lexer": "ipython3",
   "version": "3.7.3"
  }
 },
 "nbformat": 4,
 "nbformat_minor": 2
}
