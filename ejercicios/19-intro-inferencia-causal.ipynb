{
 "cells": [
  {
   "cell_type": "markdown",
   "metadata": {},
   "source": [
    "## Inferencia causal: ejemplos introductorios"
   ]
  },
  {
   "cell_type": "code",
   "execution_count": null,
   "metadata": {},
   "outputs": [],
   "source": [
    "%autosave 0\n",
    "import pandas as pd \n",
    "import numpy as np\n",
    "from plotnine import *\n",
    "import plotnine"
   ]
  },
  {
   "cell_type": "markdown",
   "metadata": {},
   "source": [
    "### Datos"
   ]
  },
  {
   "cell_type": "code",
   "execution_count": null,
   "metadata": {},
   "outputs": [],
   "source": [
    "programa = pd.read_table(\"../datos/electric.dat\", sep = \"\\s+\")\n",
    "programa"
   ]
  },
  {
   "cell_type": "markdown",
   "metadata": {},
   "source": [
    "\n",
    "En este caso:\n",
    "\n",
    "- Para cada ciudad y para cada grado, se escogió un número chico de escuelas (10-20)\n",
    "- Dentro de cada escuela, se escogieron dos salones del mismo grado, y se asignó al azar una\n",
    "a tratamiento (el grupo ve el programa de tv para aprender a leer) o a control (el grupo sigue con los \n",
    "ejercicios de lectura usuales)\n",
    "\n",
    "Nota: hay un detalle adicional de este experimento que discutiremos más adelante. Por el momento\n",
    "haremos el análisis estándar según la explicación anterior.\n",
    "\n",
    "Veamos un resumen de las calificaciones por grado:"
   ]
  },
  {
   "cell_type": "code",
   "execution_count": null,
   "metadata": {},
   "outputs": [],
   "source": [
    "programa.groupby(\"Grade\").agg({\"treated.Posttest\":[np.mean], \"control.Posttest\":[np.mean]}).round(3)\n"
   ]
  },
  {
   "cell_type": "markdown",
   "metadata": {},
   "source": [
    "Preparamos los datos para correr una regresión:"
   ]
  },
  {
   "cell_type": "code",
   "execution_count": null,
   "metadata": {},
   "outputs": [],
   "source": [
    "nombres_1 = {\"treated.Posttest\":\"resultado\", \"treated.Pretest\":\"calificacion_pre\"}\n",
    "nombres_2 = {\"control.Posttest\":\"resultado\", \"control.Pretest\":\"calificacion_pre\"}\n",
    "tratados = programa[[\"Grade\", \"treated.Posttest\", \"treated.Pretest\"]].rename(columns = nombres_1)\n",
    "no_tratados = programa[[\"Grade\", \"control.Posttest\", \"control.Pretest\"]].rename(columns = nombres_2)\n",
    "tratados[\"tratamiento\"] = 1\n",
    "no_tratados[\"tratamiento\"] = 0\n",
    "programa_larga = pd.concat([tratados, no_tratados], axis = 0)\n",
    "programa_larga"
   ]
  },
  {
   "cell_type": "code",
   "execution_count": null,
   "metadata": {},
   "outputs": [],
   "source": [
    "# Corremos el modelo para cada grado\n",
    "import statsmodels.api as sm\n",
    "from sklearn.preprocessing import OneHotEncoder\n",
    "coefs = []  \n",
    "for g in [1,2,3,4]:\n",
    "  datos_grado = programa_larga[programa_larga.Grade == g]\n",
    "  y = datos_grado[\"resultado\"].to_numpy()\n",
    "  #dummis_grado = pd.get_dummies(programa_larga.Grade, prefix = \"Grado_\", drop_first=True)\n",
    "  datos_p = datos_grado.drop(columns = [\"Grade\", \"resultado\", \"calificacion_pre\"])\n",
    "  #datos_p = pd.concat([dummis_grado, datos_p], axis = 1, sort=False)\n",
    "  datos_p[\"const\"] = 1\n",
    "  reg_1 = sm.OLS(y, datos_p).fit()\n",
    "  intervalos = reg_1.conf_int()\n",
    "  params = reg_1.params\n",
    "  resumen = pd.concat([params, intervalos], axis = 1)\n",
    "  resumen.columns = [\"coef\", \"inf\", \"sup\"]\n",
    "  resumen[\"Grado\"] = g\n",
    "  coefs.append(resumen)\n",
    "resumen = pd.concat(coefs)\n",
    "resumen.round(2)"
   ]
  },
  {
   "cell_type": "markdown",
   "metadata": {},
   "source": [
    "Interpreta estos coeficientes (tratamiento y constante). Podemos graficar:"
   ]
  },
  {
   "cell_type": "code",
   "execution_count": null,
   "metadata": {},
   "outputs": [],
   "source": [
    "coef_trata =  resumen[resumen.index == \"tratamiento\"]\n",
    "(ggplot(coef_trata, aes(\"Grado\", \"coef\", ymin=\"inf\", ymax=\"sup\")) +\n",
    "  geom_hline(yintercept = 0) +\n",
    "   geom_linerange(colour = \"red\") +\n",
    "   geom_point(size = 3) + coord_flip())"
   ]
  },
  {
   "cell_type": "markdown",
   "metadata": {},
   "source": [
    "¿Puedes interpretar estos coeficientes de manera causal? ¿Por qué si o no?"
   ]
  },
  {
   "cell_type": "markdown",
   "metadata": {},
   "source": [
    "### Agregando covariables pretratamiento\n",
    "\n",
    "\n",
    "Aunque en este ejemplo el efecto no está confundido, podemos usar covariables\n",
    "pre-tratamiento para intentar explicar mejor la variación de los resultados, y obtener\n",
    "estimaciones más precisas de los efectos del programa. Controlamos entonces por las\n",
    "calificaciones de lectura que tomamos *antes* de comenzar el experimento:\n"
   ]
  },
  {
   "cell_type": "code",
   "execution_count": null,
   "metadata": {},
   "outputs": [],
   "source": [
    "import statsmodels.api as sm\n",
    "from sklearn.preprocessing import OneHotEncoder\n",
    "coefs = []  \n",
    "for g in [1,2,3,4]:\n",
    "  datos_grado = programa_larga[programa_larga.Grade == g]\n",
    "  y = datos_grado[\"resultado\"].to_numpy()\n",
    "  #dummis_grado = pd.get_dummies(programa_larga.Grade, prefix = \"Grado_\", drop_first=True)\n",
    "  datos_p = datos_grado.drop(columns = [\"Grade\", \"resultado\"])\n",
    "  #datos_p = pd.concat([dummis_grado, datos_p], axis = 1, sort=False)\n",
    "  datos_p[\"const\"] = 1\n",
    "  reg_1 = sm.OLS(y, datos_p).fit()\n",
    "  intervalos = reg_1.conf_int()\n",
    "  params = reg_1.params\n",
    "  resumen = pd.concat([params, intervalos], axis = 1)\n",
    "  resumen.columns = [\"coef\", \"inf\", \"sup\"]\n",
    "  resumen[\"Grado\"] = g\n",
    "  coefs.append(resumen)\n",
    "resumen = pd.concat(coefs)\n",
    "resumen\n"
   ]
  },
  {
   "cell_type": "markdown",
   "metadata": {},
   "source": [
    "Interpreta estos coeficientes. ¿Qué coeficiente es el que interpretas de manera causal?"
   ]
  },
  {
   "cell_type": "code",
   "execution_count": null,
   "metadata": {},
   "outputs": [],
   "source": [
    "coef_trata =  resumen[resumen.index == \"tratamiento\"]\n",
    "(ggplot(coef_trata, aes(\"Grado\", \"coef\", ymin=\"inf\", ymax=\"sup\")) +\n",
    "  geom_hline(yintercept = 0) +\n",
    "   geom_linerange(colour = \"red\") +\n",
    "   geom_point(size = 3) + coord_flip())"
   ]
  },
  {
   "cell_type": "markdown",
   "metadata": {},
   "source": [
    "¿Cuáles son tus conclusiones acerca de estos coeficientes?\n",
    "\n",
    "Ahora considera que dentro de este estudio, se permitió a maestro(a)s escoger si complementaban sus materiales usuales o sustituían del todo su material con el programa de TV. ¿En qué cambia tus conclusiones? Argumenta que puedes seguir interpretando estos efectos como causales."
   ]
  }
 ],
 "metadata": {
  "jupytext": {
   "formats": "ipynb,Rmd"
  },
  "kernelspec": {
   "display_name": "Python 3",
   "language": "python",
   "name": "python3"
  },
  "language_info": {
   "codemirror_mode": {
    "name": "ipython",
    "version": 3
   },
   "file_extension": ".py",
   "mimetype": "text/x-python",
   "name": "python",
   "nbconvert_exporter": "python",
   "pygments_lexer": "ipython3",
   "version": "3.7.3"
  }
 },
 "nbformat": 4,
 "nbformat_minor": 2
}
